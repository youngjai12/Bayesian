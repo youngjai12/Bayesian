{
 "cells": [
  {
   "cell_type": "code",
   "execution_count": 67,
   "metadata": {},
   "outputs": [],
   "source": [
    "import pandas as pd\n",
    "import numpy as np\n",
    "from sklearn.linear_model import LogisticRegression\n",
    "from apyori import apriori\n",
    "from sklearn.model_selection import train_test_split\n",
    "import statsmodels.api as sm\n",
    "from sklearn.ensemble import GradientBoostingClassifier\n",
    "import matplotlib.pyplot as plt\n"
   ]
  },
  {
   "cell_type": "code",
   "execution_count": 2,
   "metadata": {},
   "outputs": [],
   "source": [
    "dataPath = \"/home/youngjai/yjGit/bayesProgramming/data/dataset.csv\"\n",
    "df = pd.read_csv(dataPath)\n",
    "df = df.drop([\"index\"], axis=1)\n"
   ]
  },
  {
   "cell_type": "code",
   "execution_count": 3,
   "metadata": {},
   "outputs": [
    {
     "name": "stdout",
     "output_type": "stream",
     "text": [
      "<class 'pandas.core.frame.DataFrame'>\n",
      "RangeIndex: 11055 entries, 0 to 11054\n",
      "Data columns (total 31 columns):\n",
      " #   Column                       Non-Null Count  Dtype\n",
      "---  ------                       --------------  -----\n",
      " 0   having_IPhaving_IP_Address   11055 non-null  int64\n",
      " 1   URLURL_Length                11055 non-null  int64\n",
      " 2   Shortining_Service           11055 non-null  int64\n",
      " 3   having_At_Symbol             11055 non-null  int64\n",
      " 4   double_slash_redirecting     11055 non-null  int64\n",
      " 5   Prefix_Suffix                11055 non-null  int64\n",
      " 6   having_Sub_Domain            11055 non-null  int64\n",
      " 7   SSLfinal_State               11055 non-null  int64\n",
      " 8   Domain_registeration_length  11055 non-null  int64\n",
      " 9   Favicon                      11055 non-null  int64\n",
      " 10  port                         11055 non-null  int64\n",
      " 11  HTTPS_token                  11055 non-null  int64\n",
      " 12  Request_URL                  11055 non-null  int64\n",
      " 13  URL_of_Anchor                11055 non-null  int64\n",
      " 14  Links_in_tags                11055 non-null  int64\n",
      " 15  SFH                          11055 non-null  int64\n",
      " 16  Submitting_to_email          11055 non-null  int64\n",
      " 17  Abnormal_URL                 11055 non-null  int64\n",
      " 18  Redirect                     11055 non-null  int64\n",
      " 19  on_mouseover                 11055 non-null  int64\n",
      " 20  RightClick                   11055 non-null  int64\n",
      " 21  popUpWidnow                  11055 non-null  int64\n",
      " 22  Iframe                       11055 non-null  int64\n",
      " 23  age_of_domain                11055 non-null  int64\n",
      " 24  DNSRecord                    11055 non-null  int64\n",
      " 25  web_traffic                  11055 non-null  int64\n",
      " 26  Page_Rank                    11055 non-null  int64\n",
      " 27  Google_Index                 11055 non-null  int64\n",
      " 28  Links_pointing_to_page       11055 non-null  int64\n",
      " 29  Statistical_report           11055 non-null  int64\n",
      " 30  Result                       11055 non-null  int64\n",
      "dtypes: int64(31)\n",
      "memory usage: 2.6 MB\n"
     ]
    }
   ],
   "source": [
    "\n",
    "df.info()"
   ]
  },
  {
   "cell_type": "code",
   "execution_count": 4,
   "metadata": {},
   "outputs": [],
   "source": [
    "for col in xcols:\n",
    "    df[col] =df[col].astype(str)\n",
    "dummied = pd.get_dummies(df, drop_first=True) "
   ]
  },
  {
   "cell_type": "code",
   "execution_count": 5,
   "metadata": {},
   "outputs": [
    {
     "data": {
      "text/plain": [
       "Index(['having_IPhaving_IP_Address', 'URLURL_Length', 'Shortining_Service',\n",
       "       'having_At_Symbol', 'double_slash_redirecting', 'Prefix_Suffix',\n",
       "       'having_Sub_Domain', 'SSLfinal_State', 'Domain_registeration_length',\n",
       "       'Favicon', 'port', 'HTTPS_token', 'Request_URL', 'URL_of_Anchor',\n",
       "       'Links_in_tags', 'SFH', 'Submitting_to_email', 'Abnormal_URL',\n",
       "       'Redirect', 'on_mouseover', 'RightClick', 'popUpWidnow', 'Iframe',\n",
       "       'age_of_domain', 'DNSRecord', 'web_traffic', 'Page_Rank',\n",
       "       'Google_Index', 'Links_pointing_to_page', 'Statistical_report'],\n",
       "      dtype='object')"
      ]
     },
     "execution_count": 5,
     "metadata": {},
     "output_type": "execute_result"
    }
   ],
   "source": [
    "xcols"
   ]
  },
  {
   "cell_type": "code",
   "execution_count": 6,
   "metadata": {},
   "outputs": [
    {
     "name": "stdout",
     "output_type": "stream",
     "text": [
      "<class 'pandas.core.frame.DataFrame'>\n",
      "RangeIndex: 11055 entries, 0 to 11054\n",
      "Data columns (total 39 columns):\n",
      " #   Column                         Non-Null Count  Dtype\n",
      "---  ------                         --------------  -----\n",
      " 0   Result                         11055 non-null  int64\n",
      " 1   having_IPhaving_IP_Address_1   11055 non-null  uint8\n",
      " 2   URLURL_Length_0                11055 non-null  uint8\n",
      " 3   URLURL_Length_1                11055 non-null  uint8\n",
      " 4   Shortining_Service_1           11055 non-null  uint8\n",
      " 5   having_At_Symbol_1             11055 non-null  uint8\n",
      " 6   double_slash_redirecting_1     11055 non-null  uint8\n",
      " 7   Prefix_Suffix_1                11055 non-null  uint8\n",
      " 8   having_Sub_Domain_0            11055 non-null  uint8\n",
      " 9   having_Sub_Domain_1            11055 non-null  uint8\n",
      " 10  SSLfinal_State_0               11055 non-null  uint8\n",
      " 11  SSLfinal_State_1               11055 non-null  uint8\n",
      " 12  Domain_registeration_length_1  11055 non-null  uint8\n",
      " 13  Favicon_1                      11055 non-null  uint8\n",
      " 14  port_1                         11055 non-null  uint8\n",
      " 15  HTTPS_token_1                  11055 non-null  uint8\n",
      " 16  Request_URL_1                  11055 non-null  uint8\n",
      " 17  URL_of_Anchor_0                11055 non-null  uint8\n",
      " 18  URL_of_Anchor_1                11055 non-null  uint8\n",
      " 19  Links_in_tags_0                11055 non-null  uint8\n",
      " 20  Links_in_tags_1                11055 non-null  uint8\n",
      " 21  SFH_0                          11055 non-null  uint8\n",
      " 22  SFH_1                          11055 non-null  uint8\n",
      " 23  Submitting_to_email_1          11055 non-null  uint8\n",
      " 24  Abnormal_URL_1                 11055 non-null  uint8\n",
      " 25  Redirect_1                     11055 non-null  uint8\n",
      " 26  on_mouseover_1                 11055 non-null  uint8\n",
      " 27  RightClick_1                   11055 non-null  uint8\n",
      " 28  popUpWidnow_1                  11055 non-null  uint8\n",
      " 29  Iframe_1                       11055 non-null  uint8\n",
      " 30  age_of_domain_1                11055 non-null  uint8\n",
      " 31  DNSRecord_1                    11055 non-null  uint8\n",
      " 32  web_traffic_0                  11055 non-null  uint8\n",
      " 33  web_traffic_1                  11055 non-null  uint8\n",
      " 34  Page_Rank_1                    11055 non-null  uint8\n",
      " 35  Google_Index_1                 11055 non-null  uint8\n",
      " 36  Links_pointing_to_page_0       11055 non-null  uint8\n",
      " 37  Links_pointing_to_page_1       11055 non-null  uint8\n",
      " 38  Statistical_report_1           11055 non-null  uint8\n",
      "dtypes: int64(1), uint8(38)\n",
      "memory usage: 496.7 KB\n"
     ]
    }
   ],
   "source": [
    "dummied.info()"
   ]
  },
  {
   "cell_type": "code",
   "execution_count": 7,
   "metadata": {},
   "outputs": [
    {
     "name": "stdout",
     "output_type": "stream",
     "text": [
      "URLURL_Length\n",
      "having_Sub_Domain\n",
      "SSLfinal_State\n",
      "URL_of_Anchor\n",
      "Links_in_tags\n",
      "SFH\n",
      "web_traffic\n",
      "Links_pointing_to_page\n"
     ]
    }
   ],
   "source": [
    "for col in xcols:\n",
    "    if df[col].unique().shape[0] > 2:\n",
    "        print(col)"
   ]
  },
  {
   "cell_type": "code",
   "execution_count": 8,
   "metadata": {},
   "outputs": [
    {
     "data": {
      "text/plain": [
       "'Result'"
      ]
     },
     "execution_count": 8,
     "metadata": {},
     "output_type": "execute_result"
    }
   ],
   "source": [
    "xcols = dummied.columns[1:]\n",
    "ycol = dummied.columns[0]\n",
    "ycol"
   ]
  },
  {
   "cell_type": "code",
   "execution_count": 13,
   "metadata": {},
   "outputs": [
    {
     "data": {
      "text/html": [
       "<div>\n",
       "<style scoped>\n",
       "    .dataframe tbody tr th:only-of-type {\n",
       "        vertical-align: middle;\n",
       "    }\n",
       "\n",
       "    .dataframe tbody tr th {\n",
       "        vertical-align: top;\n",
       "    }\n",
       "\n",
       "    .dataframe thead th {\n",
       "        text-align: right;\n",
       "    }\n",
       "</style>\n",
       "<table border=\"1\" class=\"dataframe\">\n",
       "  <thead>\n",
       "    <tr style=\"text-align: right;\">\n",
       "      <th></th>\n",
       "      <th>having_IPhaving_IP_Address_1</th>\n",
       "      <th>URLURL_Length_0</th>\n",
       "      <th>URLURL_Length_1</th>\n",
       "      <th>Shortining_Service_1</th>\n",
       "      <th>having_At_Symbol_1</th>\n",
       "      <th>double_slash_redirecting_1</th>\n",
       "      <th>Prefix_Suffix_1</th>\n",
       "      <th>having_Sub_Domain_0</th>\n",
       "      <th>having_Sub_Domain_1</th>\n",
       "      <th>SSLfinal_State_0</th>\n",
       "      <th>...</th>\n",
       "      <th>Iframe_1</th>\n",
       "      <th>age_of_domain_1</th>\n",
       "      <th>DNSRecord_1</th>\n",
       "      <th>web_traffic_0</th>\n",
       "      <th>web_traffic_1</th>\n",
       "      <th>Page_Rank_1</th>\n",
       "      <th>Google_Index_1</th>\n",
       "      <th>Links_pointing_to_page_0</th>\n",
       "      <th>Links_pointing_to_page_1</th>\n",
       "      <th>Statistical_report_1</th>\n",
       "    </tr>\n",
       "  </thead>\n",
       "  <tbody>\n",
       "    <tr>\n",
       "      <th>197</th>\n",
       "      <td>1</td>\n",
       "      <td>0</td>\n",
       "      <td>0</td>\n",
       "      <td>1</td>\n",
       "      <td>1</td>\n",
       "      <td>1</td>\n",
       "      <td>0</td>\n",
       "      <td>0</td>\n",
       "      <td>0</td>\n",
       "      <td>0</td>\n",
       "      <td>...</td>\n",
       "      <td>1</td>\n",
       "      <td>0</td>\n",
       "      <td>0</td>\n",
       "      <td>0</td>\n",
       "      <td>0</td>\n",
       "      <td>0</td>\n",
       "      <td>1</td>\n",
       "      <td>0</td>\n",
       "      <td>1</td>\n",
       "      <td>1</td>\n",
       "    </tr>\n",
       "    <tr>\n",
       "      <th>7650</th>\n",
       "      <td>0</td>\n",
       "      <td>0</td>\n",
       "      <td>1</td>\n",
       "      <td>1</td>\n",
       "      <td>1</td>\n",
       "      <td>1</td>\n",
       "      <td>0</td>\n",
       "      <td>1</td>\n",
       "      <td>0</td>\n",
       "      <td>1</td>\n",
       "      <td>...</td>\n",
       "      <td>1</td>\n",
       "      <td>1</td>\n",
       "      <td>1</td>\n",
       "      <td>0</td>\n",
       "      <td>0</td>\n",
       "      <td>0</td>\n",
       "      <td>1</td>\n",
       "      <td>0</td>\n",
       "      <td>0</td>\n",
       "      <td>1</td>\n",
       "    </tr>\n",
       "    <tr>\n",
       "      <th>10486</th>\n",
       "      <td>1</td>\n",
       "      <td>0</td>\n",
       "      <td>0</td>\n",
       "      <td>1</td>\n",
       "      <td>1</td>\n",
       "      <td>1</td>\n",
       "      <td>0</td>\n",
       "      <td>0</td>\n",
       "      <td>1</td>\n",
       "      <td>0</td>\n",
       "      <td>...</td>\n",
       "      <td>1</td>\n",
       "      <td>0</td>\n",
       "      <td>1</td>\n",
       "      <td>0</td>\n",
       "      <td>0</td>\n",
       "      <td>0</td>\n",
       "      <td>1</td>\n",
       "      <td>1</td>\n",
       "      <td>0</td>\n",
       "      <td>0</td>\n",
       "    </tr>\n",
       "    <tr>\n",
       "      <th>9078</th>\n",
       "      <td>0</td>\n",
       "      <td>0</td>\n",
       "      <td>0</td>\n",
       "      <td>1</td>\n",
       "      <td>0</td>\n",
       "      <td>1</td>\n",
       "      <td>1</td>\n",
       "      <td>0</td>\n",
       "      <td>1</td>\n",
       "      <td>0</td>\n",
       "      <td>...</td>\n",
       "      <td>0</td>\n",
       "      <td>1</td>\n",
       "      <td>1</td>\n",
       "      <td>1</td>\n",
       "      <td>0</td>\n",
       "      <td>0</td>\n",
       "      <td>1</td>\n",
       "      <td>0</td>\n",
       "      <td>1</td>\n",
       "      <td>1</td>\n",
       "    </tr>\n",
       "    <tr>\n",
       "      <th>10691</th>\n",
       "      <td>0</td>\n",
       "      <td>0</td>\n",
       "      <td>1</td>\n",
       "      <td>0</td>\n",
       "      <td>0</td>\n",
       "      <td>1</td>\n",
       "      <td>0</td>\n",
       "      <td>0</td>\n",
       "      <td>0</td>\n",
       "      <td>0</td>\n",
       "      <td>...</td>\n",
       "      <td>1</td>\n",
       "      <td>1</td>\n",
       "      <td>1</td>\n",
       "      <td>0</td>\n",
       "      <td>1</td>\n",
       "      <td>0</td>\n",
       "      <td>0</td>\n",
       "      <td>1</td>\n",
       "      <td>0</td>\n",
       "      <td>1</td>\n",
       "    </tr>\n",
       "    <tr>\n",
       "      <th>...</th>\n",
       "      <td>...</td>\n",
       "      <td>...</td>\n",
       "      <td>...</td>\n",
       "      <td>...</td>\n",
       "      <td>...</td>\n",
       "      <td>...</td>\n",
       "      <td>...</td>\n",
       "      <td>...</td>\n",
       "      <td>...</td>\n",
       "      <td>...</td>\n",
       "      <td>...</td>\n",
       "      <td>...</td>\n",
       "      <td>...</td>\n",
       "      <td>...</td>\n",
       "      <td>...</td>\n",
       "      <td>...</td>\n",
       "      <td>...</td>\n",
       "      <td>...</td>\n",
       "      <td>...</td>\n",
       "      <td>...</td>\n",
       "      <td>...</td>\n",
       "    </tr>\n",
       "    <tr>\n",
       "      <th>8549</th>\n",
       "      <td>0</td>\n",
       "      <td>0</td>\n",
       "      <td>0</td>\n",
       "      <td>1</td>\n",
       "      <td>1</td>\n",
       "      <td>1</td>\n",
       "      <td>0</td>\n",
       "      <td>0</td>\n",
       "      <td>1</td>\n",
       "      <td>0</td>\n",
       "      <td>...</td>\n",
       "      <td>1</td>\n",
       "      <td>1</td>\n",
       "      <td>1</td>\n",
       "      <td>0</td>\n",
       "      <td>1</td>\n",
       "      <td>0</td>\n",
       "      <td>1</td>\n",
       "      <td>1</td>\n",
       "      <td>0</td>\n",
       "      <td>1</td>\n",
       "    </tr>\n",
       "    <tr>\n",
       "      <th>5459</th>\n",
       "      <td>1</td>\n",
       "      <td>0</td>\n",
       "      <td>0</td>\n",
       "      <td>1</td>\n",
       "      <td>1</td>\n",
       "      <td>1</td>\n",
       "      <td>0</td>\n",
       "      <td>0</td>\n",
       "      <td>0</td>\n",
       "      <td>0</td>\n",
       "      <td>...</td>\n",
       "      <td>1</td>\n",
       "      <td>0</td>\n",
       "      <td>1</td>\n",
       "      <td>0</td>\n",
       "      <td>1</td>\n",
       "      <td>0</td>\n",
       "      <td>1</td>\n",
       "      <td>1</td>\n",
       "      <td>0</td>\n",
       "      <td>1</td>\n",
       "    </tr>\n",
       "    <tr>\n",
       "      <th>5298</th>\n",
       "      <td>0</td>\n",
       "      <td>0</td>\n",
       "      <td>0</td>\n",
       "      <td>1</td>\n",
       "      <td>0</td>\n",
       "      <td>1</td>\n",
       "      <td>0</td>\n",
       "      <td>0</td>\n",
       "      <td>0</td>\n",
       "      <td>0</td>\n",
       "      <td>...</td>\n",
       "      <td>0</td>\n",
       "      <td>0</td>\n",
       "      <td>1</td>\n",
       "      <td>0</td>\n",
       "      <td>1</td>\n",
       "      <td>1</td>\n",
       "      <td>1</td>\n",
       "      <td>0</td>\n",
       "      <td>1</td>\n",
       "      <td>1</td>\n",
       "    </tr>\n",
       "    <tr>\n",
       "      <th>7575</th>\n",
       "      <td>0</td>\n",
       "      <td>0</td>\n",
       "      <td>0</td>\n",
       "      <td>1</td>\n",
       "      <td>1</td>\n",
       "      <td>1</td>\n",
       "      <td>0</td>\n",
       "      <td>1</td>\n",
       "      <td>0</td>\n",
       "      <td>0</td>\n",
       "      <td>...</td>\n",
       "      <td>1</td>\n",
       "      <td>0</td>\n",
       "      <td>1</td>\n",
       "      <td>0</td>\n",
       "      <td>1</td>\n",
       "      <td>0</td>\n",
       "      <td>1</td>\n",
       "      <td>0</td>\n",
       "      <td>1</td>\n",
       "      <td>1</td>\n",
       "    </tr>\n",
       "    <tr>\n",
       "      <th>8381</th>\n",
       "      <td>0</td>\n",
       "      <td>0</td>\n",
       "      <td>0</td>\n",
       "      <td>1</td>\n",
       "      <td>1</td>\n",
       "      <td>1</td>\n",
       "      <td>0</td>\n",
       "      <td>0</td>\n",
       "      <td>0</td>\n",
       "      <td>1</td>\n",
       "      <td>...</td>\n",
       "      <td>1</td>\n",
       "      <td>1</td>\n",
       "      <td>1</td>\n",
       "      <td>0</td>\n",
       "      <td>1</td>\n",
       "      <td>0</td>\n",
       "      <td>0</td>\n",
       "      <td>1</td>\n",
       "      <td>0</td>\n",
       "      <td>1</td>\n",
       "    </tr>\n",
       "  </tbody>\n",
       "</table>\n",
       "<p>8291 rows × 38 columns</p>\n",
       "</div>"
      ],
      "text/plain": [
       "       having_IPhaving_IP_Address_1  URLURL_Length_0  URLURL_Length_1  \\\n",
       "197                               1                0                0   \n",
       "7650                              0                0                1   \n",
       "10486                             1                0                0   \n",
       "9078                              0                0                0   \n",
       "10691                             0                0                1   \n",
       "...                             ...              ...              ...   \n",
       "8549                              0                0                0   \n",
       "5459                              1                0                0   \n",
       "5298                              0                0                0   \n",
       "7575                              0                0                0   \n",
       "8381                              0                0                0   \n",
       "\n",
       "       Shortining_Service_1  having_At_Symbol_1  double_slash_redirecting_1  \\\n",
       "197                       1                   1                           1   \n",
       "7650                      1                   1                           1   \n",
       "10486                     1                   1                           1   \n",
       "9078                      1                   0                           1   \n",
       "10691                     0                   0                           1   \n",
       "...                     ...                 ...                         ...   \n",
       "8549                      1                   1                           1   \n",
       "5459                      1                   1                           1   \n",
       "5298                      1                   0                           1   \n",
       "7575                      1                   1                           1   \n",
       "8381                      1                   1                           1   \n",
       "\n",
       "       Prefix_Suffix_1  having_Sub_Domain_0  having_Sub_Domain_1  \\\n",
       "197                  0                    0                    0   \n",
       "7650                 0                    1                    0   \n",
       "10486                0                    0                    1   \n",
       "9078                 1                    0                    1   \n",
       "10691                0                    0                    0   \n",
       "...                ...                  ...                  ...   \n",
       "8549                 0                    0                    1   \n",
       "5459                 0                    0                    0   \n",
       "5298                 0                    0                    0   \n",
       "7575                 0                    1                    0   \n",
       "8381                 0                    0                    0   \n",
       "\n",
       "       SSLfinal_State_0  ...  Iframe_1  age_of_domain_1  DNSRecord_1  \\\n",
       "197                   0  ...         1                0            0   \n",
       "7650                  1  ...         1                1            1   \n",
       "10486                 0  ...         1                0            1   \n",
       "9078                  0  ...         0                1            1   \n",
       "10691                 0  ...         1                1            1   \n",
       "...                 ...  ...       ...              ...          ...   \n",
       "8549                  0  ...         1                1            1   \n",
       "5459                  0  ...         1                0            1   \n",
       "5298                  0  ...         0                0            1   \n",
       "7575                  0  ...         1                0            1   \n",
       "8381                  1  ...         1                1            1   \n",
       "\n",
       "       web_traffic_0  web_traffic_1  Page_Rank_1  Google_Index_1  \\\n",
       "197                0              0            0               1   \n",
       "7650               0              0            0               1   \n",
       "10486              0              0            0               1   \n",
       "9078               1              0            0               1   \n",
       "10691              0              1            0               0   \n",
       "...              ...            ...          ...             ...   \n",
       "8549               0              1            0               1   \n",
       "5459               0              1            0               1   \n",
       "5298               0              1            1               1   \n",
       "7575               0              1            0               1   \n",
       "8381               0              1            0               0   \n",
       "\n",
       "       Links_pointing_to_page_0  Links_pointing_to_page_1  \\\n",
       "197                           0                         1   \n",
       "7650                          0                         0   \n",
       "10486                         1                         0   \n",
       "9078                          0                         1   \n",
       "10691                         1                         0   \n",
       "...                         ...                       ...   \n",
       "8549                          1                         0   \n",
       "5459                          1                         0   \n",
       "5298                          0                         1   \n",
       "7575                          0                         1   \n",
       "8381                          1                         0   \n",
       "\n",
       "       Statistical_report_1  \n",
       "197                       1  \n",
       "7650                      1  \n",
       "10486                     0  \n",
       "9078                      1  \n",
       "10691                     1  \n",
       "...                     ...  \n",
       "8549                      1  \n",
       "5459                      1  \n",
       "5298                      1  \n",
       "7575                      1  \n",
       "8381                      1  \n",
       "\n",
       "[8291 rows x 38 columns]"
      ]
     },
     "execution_count": 13,
     "metadata": {},
     "output_type": "execute_result"
    }
   ],
   "source": [
    "trainX"
   ]
  },
  {
   "cell_type": "code",
   "execution_count": 15,
   "metadata": {},
   "outputs": [],
   "source": [
    "\n",
    "dummied_y = np.where(dummied[ycol] == -1, 0 ,1)\n",
    "trainX, testX, trainY, testY = train_test_split(dummied[xcols], dummied_y, test_size = 0.25)"
   ]
  },
  {
   "cell_type": "code",
   "execution_count": 20,
   "metadata": {},
   "outputs": [
    {
     "data": {
      "text/plain": [
       "array([0, 0, 0, ..., 1, 1, 1])"
      ]
     },
     "execution_count": 20,
     "metadata": {},
     "output_type": "execute_result"
    }
   ],
   "source": [
    "trainY"
   ]
  },
  {
   "cell_type": "code",
   "execution_count": 24,
   "metadata": {},
   "outputs": [
    {
     "name": "stdout",
     "output_type": "stream",
     "text": [
      "Warning: Maximum number of iterations has been exceeded.\n",
      "         Current function value: 0.157610\n",
      "         Iterations: 35\n",
      "         Function evaluations: 37\n",
      "         Gradient evaluations: 37\n"
     ]
    },
    {
     "name": "stderr",
     "output_type": "stream",
     "text": [
      "/home/youngjai/pythonVenv/tensorflow1/lib/python3.6/site-packages/statsmodels/base/model.py:568: ConvergenceWarning: Maximum Likelihood optimization failed to converge. Check mle_retvals\n",
      "  \"Check mle_retvals\", ConvergenceWarning)\n"
     ]
    }
   ],
   "source": [
    "lr_model = sm.Logit(trainY, trainX)\n",
    "result = lr_model.fit(method = \"bfgs\")\n"
   ]
  },
  {
   "cell_type": "code",
   "execution_count": 22,
   "metadata": {},
   "outputs": [
    {
     "data": {
      "text/html": [
       "<table class=\"simpletable\">\n",
       "<caption>Logit Regression Results</caption>\n",
       "<tr>\n",
       "  <th>Dep. Variable:</th>           <td>y</td>        <th>  No. Observations:  </th>  <td>  8291</td> \n",
       "</tr>\n",
       "<tr>\n",
       "  <th>Model:</th>                 <td>Logit</td>      <th>  Df Residuals:      </th>  <td>  8253</td> \n",
       "</tr>\n",
       "<tr>\n",
       "  <th>Method:</th>                 <td>MLE</td>       <th>  Df Model:          </th>  <td>    37</td> \n",
       "</tr>\n",
       "<tr>\n",
       "  <th>Date:</th>            <td>Thu, 14 May 2020</td> <th>  Pseudo R-squ.:     </th>  <td>0.7706</td> \n",
       "</tr>\n",
       "<tr>\n",
       "  <th>Time:</th>                <td>22:29:19</td>     <th>  Log-Likelihood:    </th> <td> -1306.7</td>\n",
       "</tr>\n",
       "<tr>\n",
       "  <th>converged:</th>             <td>False</td>      <th>  LL-Null:           </th> <td> -5695.6</td>\n",
       "</tr>\n",
       "<tr>\n",
       "  <th>Covariance Type:</th>     <td>nonrobust</td>    <th>  LLR p-value:       </th>  <td> 0.000</td> \n",
       "</tr>\n",
       "</table>\n",
       "<table class=\"simpletable\">\n",
       "<tr>\n",
       "                <td></td>                   <th>coef</th>     <th>std err</th>      <th>z</th>      <th>P>|z|</th>  <th>[0.025</th>    <th>0.975]</th>  \n",
       "</tr>\n",
       "<tr>\n",
       "  <th>having_IPhaving_IP_Address_1</th>  <td>    1.5674</td> <td>    0.153</td> <td>   10.264</td> <td> 0.000</td> <td>    1.268</td> <td>    1.867</td>\n",
       "</tr>\n",
       "<tr>\n",
       "  <th>URLURL_Length_0</th>               <td>   -0.5151</td> <td>    0.498</td> <td>   -1.034</td> <td> 0.301</td> <td>   -1.491</td> <td>    0.461</td>\n",
       "</tr>\n",
       "<tr>\n",
       "  <th>URLURL_Length_1</th>               <td>   -0.3701</td> <td>    0.177</td> <td>   -2.096</td> <td> 0.036</td> <td>   -0.716</td> <td>   -0.024</td>\n",
       "</tr>\n",
       "<tr>\n",
       "  <th>Shortining_Service_1</th>          <td>   -1.5109</td> <td>    0.360</td> <td>   -4.200</td> <td> 0.000</td> <td>   -2.216</td> <td>   -0.806</td>\n",
       "</tr>\n",
       "<tr>\n",
       "  <th>having_At_Symbol_1</th>            <td>    0.0958</td> <td>    0.188</td> <td>    0.508</td> <td> 0.611</td> <td>   -0.274</td> <td>    0.465</td>\n",
       "</tr>\n",
       "<tr>\n",
       "  <th>double_slash_redirecting_1</th>    <td>   -0.7302</td> <td>    0.386</td> <td>   -1.890</td> <td> 0.059</td> <td>   -1.487</td> <td>    0.027</td>\n",
       "</tr>\n",
       "<tr>\n",
       "  <th>Prefix_Suffix_1</th>               <td>    3.7664</td> <td>    0.436</td> <td>    8.634</td> <td> 0.000</td> <td>    2.911</td> <td>    4.621</td>\n",
       "</tr>\n",
       "<tr>\n",
       "  <th>having_Sub_Domain_0</th>           <td>   -0.3088</td> <td>    0.126</td> <td>   -2.445</td> <td> 0.014</td> <td>   -0.556</td> <td>   -0.061</td>\n",
       "</tr>\n",
       "<tr>\n",
       "  <th>having_Sub_Domain_1</th>           <td>    1.3471</td> <td>    0.134</td> <td>   10.076</td> <td> 0.000</td> <td>    1.085</td> <td>    1.609</td>\n",
       "</tr>\n",
       "<tr>\n",
       "  <th>SSLfinal_State_0</th>              <td>   -2.2061</td> <td>    0.320</td> <td>   -6.884</td> <td> 0.000</td> <td>   -2.834</td> <td>   -1.578</td>\n",
       "</tr>\n",
       "<tr>\n",
       "  <th>SSLfinal_State_1</th>              <td>    3.1517</td> <td>    0.119</td> <td>   26.384</td> <td> 0.000</td> <td>    2.918</td> <td>    3.386</td>\n",
       "</tr>\n",
       "<tr>\n",
       "  <th>Domain_registeration_length_1</th> <td>   -0.9466</td> <td>    0.139</td> <td>   -6.834</td> <td> 0.000</td> <td>   -1.218</td> <td>   -0.675</td>\n",
       "</tr>\n",
       "<tr>\n",
       "  <th>Favicon_1</th>                     <td>   -0.1471</td> <td>    0.440</td> <td>   -0.334</td> <td> 0.738</td> <td>   -1.009</td> <td>    0.715</td>\n",
       "</tr>\n",
       "<tr>\n",
       "  <th>port_1</th>                        <td>   -0.0765</td> <td>    0.357</td> <td>   -0.214</td> <td> 0.830</td> <td>   -0.775</td> <td>    0.623</td>\n",
       "</tr>\n",
       "<tr>\n",
       "  <th>HTTPS_token_1</th>                 <td>   -0.9181</td> <td>    0.267</td> <td>   -3.435</td> <td> 0.001</td> <td>   -1.442</td> <td>   -0.394</td>\n",
       "</tr>\n",
       "<tr>\n",
       "  <th>Request_URL_1</th>                 <td>    0.0121</td> <td>    0.131</td> <td>    0.093</td> <td> 0.926</td> <td>   -0.244</td> <td>    0.268</td>\n",
       "</tr>\n",
       "<tr>\n",
       "  <th>URL_of_Anchor_0</th>               <td>    3.8490</td> <td>    0.202</td> <td>   19.097</td> <td> 0.000</td> <td>    3.454</td> <td>    4.244</td>\n",
       "</tr>\n",
       "<tr>\n",
       "  <th>URL_of_Anchor_1</th>               <td>    5.2819</td> <td>    0.240</td> <td>   22.036</td> <td> 0.000</td> <td>    4.812</td> <td>    5.752</td>\n",
       "</tr>\n",
       "<tr>\n",
       "  <th>Links_in_tags_0</th>               <td>    1.3652</td> <td>    0.119</td> <td>   11.430</td> <td> 0.000</td> <td>    1.131</td> <td>    1.599</td>\n",
       "</tr>\n",
       "<tr>\n",
       "  <th>Links_in_tags_1</th>               <td>    0.8308</td> <td>    0.138</td> <td>    6.037</td> <td> 0.000</td> <td>    0.561</td> <td>    1.101</td>\n",
       "</tr>\n",
       "<tr>\n",
       "  <th>SFH_0</th>                         <td>    1.1556</td> <td>    0.219</td> <td>    5.266</td> <td> 0.000</td> <td>    0.725</td> <td>    1.586</td>\n",
       "</tr>\n",
       "<tr>\n",
       "  <th>SFH_1</th>                         <td>    1.4007</td> <td>    0.184</td> <td>    7.614</td> <td> 0.000</td> <td>    1.040</td> <td>    1.761</td>\n",
       "</tr>\n",
       "<tr>\n",
       "  <th>Submitting_to_email_1</th>         <td>    0.3039</td> <td>    0.232</td> <td>    1.311</td> <td> 0.190</td> <td>   -0.151</td> <td>    0.758</td>\n",
       "</tr>\n",
       "<tr>\n",
       "  <th>Abnormal_URL_1</th>                <td>   -0.9223</td> <td>    0.300</td> <td>   -3.077</td> <td> 0.002</td> <td>   -1.510</td> <td>   -0.335</td>\n",
       "</tr>\n",
       "<tr>\n",
       "  <th>Redirect_1</th>                    <td>   -2.0039</td> <td>    0.221</td> <td>   -9.075</td> <td> 0.000</td> <td>   -2.437</td> <td>   -1.571</td>\n",
       "</tr>\n",
       "<tr>\n",
       "  <th>on_mouseover_1</th>                <td>    0.1432</td> <td>    0.301</td> <td>    0.475</td> <td> 0.634</td> <td>   -0.447</td> <td>    0.734</td>\n",
       "</tr>\n",
       "<tr>\n",
       "  <th>RightClick_1</th>                  <td>   -2.0437</td> <td>    0.336</td> <td>   -6.081</td> <td> 0.000</td> <td>   -2.702</td> <td>   -1.385</td>\n",
       "</tr>\n",
       "<tr>\n",
       "  <th>popUpWidnow_1</th>                 <td>    0.1491</td> <td>    0.428</td> <td>    0.349</td> <td> 0.727</td> <td>   -0.689</td> <td>    0.987</td>\n",
       "</tr>\n",
       "<tr>\n",
       "  <th>Iframe_1</th>                      <td>   -0.8263</td> <td>    0.347</td> <td>   -2.378</td> <td> 0.017</td> <td>   -1.507</td> <td>   -0.145</td>\n",
       "</tr>\n",
       "<tr>\n",
       "  <th>age_of_domain_1</th>               <td>   -0.3039</td> <td>    0.112</td> <td>   -2.726</td> <td> 0.006</td> <td>   -0.522</td> <td>   -0.085</td>\n",
       "</tr>\n",
       "<tr>\n",
       "  <th>DNSRecord_1</th>                   <td>    1.3757</td> <td>    0.151</td> <td>    9.119</td> <td> 0.000</td> <td>    1.080</td> <td>    1.671</td>\n",
       "</tr>\n",
       "<tr>\n",
       "  <th>web_traffic_0</th>                 <td>   -2.1925</td> <td>    0.174</td> <td>  -12.607</td> <td> 0.000</td> <td>   -2.533</td> <td>   -1.852</td>\n",
       "</tr>\n",
       "<tr>\n",
       "  <th>web_traffic_1</th>                 <td>    0.1473</td> <td>    0.146</td> <td>    1.010</td> <td> 0.313</td> <td>   -0.139</td> <td>    0.433</td>\n",
       "</tr>\n",
       "<tr>\n",
       "  <th>Page_Rank_1</th>                   <td>    0.0098</td> <td>    0.127</td> <td>    0.077</td> <td> 0.938</td> <td>   -0.239</td> <td>    0.258</td>\n",
       "</tr>\n",
       "<tr>\n",
       "  <th>Google_Index_1</th>                <td>    0.9054</td> <td>    0.143</td> <td>    6.311</td> <td> 0.000</td> <td>    0.624</td> <td>    1.187</td>\n",
       "</tr>\n",
       "<tr>\n",
       "  <th>Links_pointing_to_page_0</th>      <td>   -2.2139</td> <td>    0.230</td> <td>   -9.645</td> <td> 0.000</td> <td>   -2.664</td> <td>   -1.764</td>\n",
       "</tr>\n",
       "<tr>\n",
       "  <th>Links_pointing_to_page_1</th>      <td>   -0.7463</td> <td>    0.232</td> <td>   -3.219</td> <td> 0.001</td> <td>   -1.201</td> <td>   -0.292</td>\n",
       "</tr>\n",
       "<tr>\n",
       "  <th>Statistical_report_1</th>          <td>   -0.2537</td> <td>    0.199</td> <td>   -1.276</td> <td> 0.202</td> <td>   -0.643</td> <td>    0.136</td>\n",
       "</tr>\n",
       "</table>"
      ],
      "text/plain": [
       "<class 'statsmodels.iolib.summary.Summary'>\n",
       "\"\"\"\n",
       "                           Logit Regression Results                           \n",
       "==============================================================================\n",
       "Dep. Variable:                      y   No. Observations:                 8291\n",
       "Model:                          Logit   Df Residuals:                     8253\n",
       "Method:                           MLE   Df Model:                           37\n",
       "Date:                Thu, 14 May 2020   Pseudo R-squ.:                  0.7706\n",
       "Time:                        22:29:19   Log-Likelihood:                -1306.7\n",
       "converged:                      False   LL-Null:                       -5695.6\n",
       "Covariance Type:            nonrobust   LLR p-value:                     0.000\n",
       "=================================================================================================\n",
       "                                    coef    std err          z      P>|z|      [0.025      0.975]\n",
       "-------------------------------------------------------------------------------------------------\n",
       "having_IPhaving_IP_Address_1      1.5674      0.153     10.264      0.000       1.268       1.867\n",
       "URLURL_Length_0                  -0.5151      0.498     -1.034      0.301      -1.491       0.461\n",
       "URLURL_Length_1                  -0.3701      0.177     -2.096      0.036      -0.716      -0.024\n",
       "Shortining_Service_1             -1.5109      0.360     -4.200      0.000      -2.216      -0.806\n",
       "having_At_Symbol_1                0.0958      0.188      0.508      0.611      -0.274       0.465\n",
       "double_slash_redirecting_1       -0.7302      0.386     -1.890      0.059      -1.487       0.027\n",
       "Prefix_Suffix_1                   3.7664      0.436      8.634      0.000       2.911       4.621\n",
       "having_Sub_Domain_0              -0.3088      0.126     -2.445      0.014      -0.556      -0.061\n",
       "having_Sub_Domain_1               1.3471      0.134     10.076      0.000       1.085       1.609\n",
       "SSLfinal_State_0                 -2.2061      0.320     -6.884      0.000      -2.834      -1.578\n",
       "SSLfinal_State_1                  3.1517      0.119     26.384      0.000       2.918       3.386\n",
       "Domain_registeration_length_1    -0.9466      0.139     -6.834      0.000      -1.218      -0.675\n",
       "Favicon_1                        -0.1471      0.440     -0.334      0.738      -1.009       0.715\n",
       "port_1                           -0.0765      0.357     -0.214      0.830      -0.775       0.623\n",
       "HTTPS_token_1                    -0.9181      0.267     -3.435      0.001      -1.442      -0.394\n",
       "Request_URL_1                     0.0121      0.131      0.093      0.926      -0.244       0.268\n",
       "URL_of_Anchor_0                   3.8490      0.202     19.097      0.000       3.454       4.244\n",
       "URL_of_Anchor_1                   5.2819      0.240     22.036      0.000       4.812       5.752\n",
       "Links_in_tags_0                   1.3652      0.119     11.430      0.000       1.131       1.599\n",
       "Links_in_tags_1                   0.8308      0.138      6.037      0.000       0.561       1.101\n",
       "SFH_0                             1.1556      0.219      5.266      0.000       0.725       1.586\n",
       "SFH_1                             1.4007      0.184      7.614      0.000       1.040       1.761\n",
       "Submitting_to_email_1             0.3039      0.232      1.311      0.190      -0.151       0.758\n",
       "Abnormal_URL_1                   -0.9223      0.300     -3.077      0.002      -1.510      -0.335\n",
       "Redirect_1                       -2.0039      0.221     -9.075      0.000      -2.437      -1.571\n",
       "on_mouseover_1                    0.1432      0.301      0.475      0.634      -0.447       0.734\n",
       "RightClick_1                     -2.0437      0.336     -6.081      0.000      -2.702      -1.385\n",
       "popUpWidnow_1                     0.1491      0.428      0.349      0.727      -0.689       0.987\n",
       "Iframe_1                         -0.8263      0.347     -2.378      0.017      -1.507      -0.145\n",
       "age_of_domain_1                  -0.3039      0.112     -2.726      0.006      -0.522      -0.085\n",
       "DNSRecord_1                       1.3757      0.151      9.119      0.000       1.080       1.671\n",
       "web_traffic_0                    -2.1925      0.174    -12.607      0.000      -2.533      -1.852\n",
       "web_traffic_1                     0.1473      0.146      1.010      0.313      -0.139       0.433\n",
       "Page_Rank_1                       0.0098      0.127      0.077      0.938      -0.239       0.258\n",
       "Google_Index_1                    0.9054      0.143      6.311      0.000       0.624       1.187\n",
       "Links_pointing_to_page_0         -2.2139      0.230     -9.645      0.000      -2.664      -1.764\n",
       "Links_pointing_to_page_1         -0.7463      0.232     -3.219      0.001      -1.201      -0.292\n",
       "Statistical_report_1             -0.2537      0.199     -1.276      0.202      -0.643       0.136\n",
       "=================================================================================================\n",
       "\"\"\""
      ]
     },
     "execution_count": 22,
     "metadata": {},
     "output_type": "execute_result"
    }
   ],
   "source": [
    "result.summary()"
   ]
  },
  {
   "cell_type": "markdown",
   "metadata": {},
   "source": [
    "# GBT "
   ]
  },
  {
   "cell_type": "code",
   "execution_count": null,
   "metadata": {},
   "outputs": [],
   "source": []
  },
  {
   "cell_type": "code",
   "execution_count": 33,
   "metadata": {},
   "outputs": [
    {
     "data": {
      "text/plain": [
       "GradientBoostingClassifier(ccp_alpha=0.0, criterion='friedman_mse', init=None,\n",
       "                           learning_rate=0.1, loss='deviance', max_depth=25,\n",
       "                           max_features=None, max_leaf_nodes=None,\n",
       "                           min_impurity_decrease=0.0, min_impurity_split=None,\n",
       "                           min_samples_leaf=1, min_samples_split=2,\n",
       "                           min_weight_fraction_leaf=0.0, n_estimators=100,\n",
       "                           n_iter_no_change=None, presort='deprecated',\n",
       "                           random_state=0, subsample=1.0, tol=0.0001,\n",
       "                           validation_fraction=0.1, verbose=0,\n",
       "                           warm_start=False)"
      ]
     },
     "execution_count": 33,
     "metadata": {},
     "output_type": "execute_result"
    }
   ],
   "source": [
    "gbc = GradientBoostingClassifier(random_state=0, max_depth=25) # 기본값: max_depth=3, learning_rate=0.1\n",
    "gbc.fit(trainX, trainY)"
   ]
  },
  {
   "cell_type": "code",
   "execution_count": 34,
   "metadata": {},
   "outputs": [
    {
     "name": "stdout",
     "output_type": "stream",
     "text": [
      "0.991\n",
      "0.960\n"
     ]
    }
   ],
   "source": [
    "score_train = gbc.score(trainX, trainY) # train set 정확도\n",
    "\n",
    "print('{:.3f}'.format(score_train))\n",
    "\n",
    "\n",
    "\n",
    "\n",
    "score_test = gbc.score(testX, testY) # 일반화 정확도\n",
    "\n",
    "print('{:.3f}'.format(score_test))\n"
   ]
  },
  {
   "cell_type": "code",
   "execution_count": 46,
   "metadata": {},
   "outputs": [
    {
     "data": {
      "text/plain": [
       "38"
      ]
     },
     "execution_count": 46,
     "metadata": {},
     "output_type": "execute_result"
    }
   ],
   "source": [
    "len(trainX.columns)"
   ]
  },
  {
   "cell_type": "code",
   "execution_count": 47,
   "metadata": {},
   "outputs": [
    {
     "data": {
      "text/plain": [
       "38"
      ]
     },
     "execution_count": 47,
     "metadata": {},
     "output_type": "execute_result"
    }
   ],
   "source": [
    "len(gbc.feature_importances_)\n"
   ]
  },
  {
   "cell_type": "code",
   "execution_count": 53,
   "metadata": {},
   "outputs": [
    {
     "data": {
      "text/plain": [
       "{1: 0.00048458780092724784,\n",
       " 28: 0.0013006546307178972,\n",
       " 37: 0.002366319857892245,\n",
       " 26: 0.002415268441841885,\n",
       " 25: 0.002758958477537343,\n",
       " 23: 0.002987405335357466,\n",
       " 12: 0.0030238799072014825,\n",
       " 24: 0.0033622223020623823,\n",
       " 4: 0.003391518275671762,\n",
       " 20: 0.0034151049477153805,\n",
       " 27: 0.003553990238184771,\n",
       " 5: 0.0035765184093497424,\n",
       " 13: 0.0037189842888629,\n",
       " 14: 0.004214643728172628,\n",
       " 35: 0.005157270765903826,\n",
       " 22: 0.005914243487131826,\n",
       " 9: 0.006832908844182492,\n",
       " 21: 0.006844971138392429,\n",
       " 32: 0.006944400420766316,\n",
       " 33: 0.006959418723678603,\n",
       " 3: 0.007027681133765019,\n",
       " 30: 0.007505525698210758,\n",
       " 0: 0.00879929211979953,\n",
       " 36: 0.00893533272328492,\n",
       " 7: 0.00900175057537139,\n",
       " 19: 0.010529493222844275,\n",
       " 15: 0.010541553203967132,\n",
       " 2: 0.011507224278967472,\n",
       " 34: 0.011725083288862298,\n",
       " 18: 0.013037430356812924,\n",
       " 11: 0.01603617064814119,\n",
       " 29: 0.017245877139572898,\n",
       " 8: 0.019677737540499732,\n",
       " 17: 0.034478177490443226,\n",
       " 31: 0.035580303819272914,\n",
       " 6: 0.037560452413289036,\n",
       " 16: 0.05202592537431715,\n",
       " 10: 0.6095617189510275}"
      ]
     },
     "execution_count": 53,
     "metadata": {},
     "output_type": "execute_result"
    }
   ],
   "source": [
    "impt_dict = {}\n",
    "for idx in range(0, 38):\n",
    "    impt_dict[idx] = gbc.feature_importances_[idx]\n",
    "\n",
    "result = {k: v for k, v in sorted(impt_dict.items(), key=lambda item: item[1])}  \n",
    "result"
   ]
  },
  {
   "cell_type": "code",
   "execution_count": 65,
   "metadata": {},
   "outputs": [
    {
     "name": "stdout",
     "output_type": "stream",
     "text": [
      "29 : 0.017245877139572898\n",
      "8 : 0.019677737540499732\n",
      "17 : 0.034478177490443226\n",
      "31 : 0.035580303819272914\n",
      "6 : 0.037560452413289036\n",
      "16 : 0.05202592537431715\n",
      "10 : 0.6095617189510275\n"
     ]
    }
   ],
   "source": [
    "top_columns = []\n",
    "impt = []\n",
    "for idx in range(31, 38):\n",
    "    temp = list(result)[idx]\n",
    "    impt.append(result[temp])\n",
    "    top_columns.append(trainX.columns[list(result)[idx]])\n",
    "    "
   ]
  },
  {
   "cell_type": "code",
   "execution_count": 79,
   "metadata": {},
   "outputs": [
    {
     "data": {
      "text/plain": [
       "array([10, 16,  6, 31, 17,  8, 29, 11, 18, 34,  2, 15, 19,  7, 36,  0, 30,\n",
       "        3, 33, 32, 21,  9, 22, 35, 14, 13,  5, 27, 20,  4, 24, 12, 23, 25,\n",
       "       26, 37, 28,  1])"
      ]
     },
     "execution_count": 79,
     "metadata": {},
     "output_type": "execute_result"
    }
   ],
   "source": [
    "indices"
   ]
  },
  {
   "cell_type": "code",
   "execution_count": 84,
   "metadata": {},
   "outputs": [
    {
     "name": "stdout",
     "output_type": "stream",
     "text": [
      "Feature ranking:\n",
      "SSLfinal_State_1. : (0.609562)\n",
      "URL_of_Anchor_0. : (0.052026)\n",
      "Prefix_Suffix_1. : (0.037560)\n",
      "web_traffic_0. : (0.035580)\n",
      "URL_of_Anchor_1. : (0.034478)\n",
      "having_Sub_Domain_1. : (0.019678)\n",
      "age_of_domain_1. : (0.017246)\n",
      "Domain_registeration_length_1. : (0.016036)\n",
      "Links_in_tags_0. : (0.013037)\n",
      "Google_Index_1. : (0.011725)\n"
     ]
    },
    {
     "data": {
      "image/png": "[encoded data removed]",
      "text/plain": [
       "<Figure size 1440x720 with 1 Axes>"
      ]
     },
     "metadata": {
      "needs_background": "light"
     },
     "output_type": "display_data"
    }
   ],
   "source": [
    "\n",
    "importances = gbc.feature_importances_\n",
    "\n",
    "indices = np.argsort(importances)[::-1]\n",
    "\n",
    "# Print the feature ranking\n",
    "print(\"Feature ranking:\")\n",
    "\n",
    "for f in range(10):\n",
    "    print(\"%s. : (%f)\" % ( trainX.columns[indices[f]], importances[indices[f]]))\n",
    "\n",
    "# Plot the impurity-based feature importances of the forest\n",
    "plt.figure(figsize=(20,10))\n",
    "plt.title(\"Feature importances\")\n",
    "plt.bar( trainX.columns[indices[:10]], importances[indices[:10]],\n",
    "        color=\"b\", align=\"center\")\n",
    "plt.xticks(range(10), trainX.columns[indices[:10]])\n",
    "plt.xlim([-1, 10])\n",
    "plt.show()"
   ]
  },
  {
   "cell_type": "code",
   "execution_count": null,
   "metadata": {},
   "outputs": [],
   "source": []
  },
  {
   "cell_type": "code",
   "execution_count": 20,
   "metadata": {},
   "outputs": [],
   "source": [
    "\n",
    "\n",
    "def getRules(df):\n",
    "    assocDf = []\n",
    "    num_records = len(df)\n",
    "    for r in range(0, num_records):\n",
    "        aRecord = []\n",
    "        for col in df.columns:\n",
    "             if df[col][r] == 1:\n",
    "                    aRecord.append(col)\n",
    "        assocDf.append(aRecord)\n",
    "    return apriori(assocDf, min_support = 0.2, min_confidence=0.4, min_lift = 2,\n",
    "                max_length = 6)    \n",
    "    \n"
   ]
  },
  {
   "cell_type": "code",
   "execution_count": 21,
   "metadata": {},
   "outputs": [],
   "source": [
    "maliciousDf = df[df[\"Result\"] == -1]\n",
    "benignDf = df[df[\"Result\"] !=-1]\n"
   ]
  },
  {
   "cell_type": "code",
   "execution_count": 35,
   "metadata": {},
   "outputs": [],
   "source": [
    "assocDf = []\n",
    "num_records = len(benignDf)\n",
    "for r in range(0, num_records):\n",
    "    aRecord = []\n",
    "    for col in df.columns:\n",
    "        if df[col][r] == 1:\n",
    "            aRecord.append(col)\n",
    "    assocDf.append(aRecord)\n",
    "benignRule = apriori(assocDf, min_support = 0.5, min_confidence=0.6, min_lift = 2, min_length =3,\n",
    "                max_length = 6)        "
   ]
  },
  {
   "cell_type": "code",
   "execution_count": 37,
   "metadata": {},
   "outputs": [
    {
     "ename": "KeyboardInterrupt",
     "evalue": "",
     "output_type": "error",
     "traceback": [
      "\u001b[0;31m---------------------------------------------------------------------------\u001b[0m",
      "\u001b[0;31mKeyboardInterrupt\u001b[0m                         Traceback (most recent call last)",
      "\u001b[0;32m<ipython-input-37-afcce9f38184>\u001b[0m in \u001b[0;36m<module>\u001b[0;34m\u001b[0m\n\u001b[0;32m----> 1\u001b[0;31m \u001b[0mdd\u001b[0m \u001b[0;34m=\u001b[0m \u001b[0mlist\u001b[0m\u001b[0;34m(\u001b[0m\u001b[0mbenignRule\u001b[0m\u001b[0;34m)\u001b[0m\u001b[0;34m\u001b[0m\u001b[0;34m\u001b[0m\u001b[0m\n\u001b[0m",
      "\u001b[0;32m~/pythonVenv/tensorflow1/lib/python3.6/site-packages/apyori.py\u001b[0m in \u001b[0;36mapriori\u001b[0;34m(transactions, **kwargs)\u001b[0m\n\u001b[1;32m    289\u001b[0m                 \u001b[0m_gen_ordered_statistics\u001b[0m\u001b[0;34m(\u001b[0m\u001b[0mtransaction_manager\u001b[0m\u001b[0;34m,\u001b[0m \u001b[0msupport_record\u001b[0m\u001b[0;34m)\u001b[0m\u001b[0;34m,\u001b[0m\u001b[0;34m\u001b[0m\u001b[0;34m\u001b[0m\u001b[0m\n\u001b[1;32m    290\u001b[0m                 \u001b[0mmin_confidence\u001b[0m\u001b[0;34m=\u001b[0m\u001b[0mmin_confidence\u001b[0m\u001b[0;34m,\u001b[0m\u001b[0;34m\u001b[0m\u001b[0;34m\u001b[0m\u001b[0m\n\u001b[0;32m--> 291\u001b[0;31m                 \u001b[0mmin_lift\u001b[0m\u001b[0;34m=\u001b[0m\u001b[0mmin_lift\u001b[0m\u001b[0;34m,\u001b[0m\u001b[0;34m\u001b[0m\u001b[0;34m\u001b[0m\u001b[0m\n\u001b[0m\u001b[1;32m    292\u001b[0m             )\n\u001b[1;32m    293\u001b[0m         )\n",
      "\u001b[0;32m~/pythonVenv/tensorflow1/lib/python3.6/site-packages/apyori.py\u001b[0m in \u001b[0;36mfilter_ordered_statistics\u001b[0;34m(ordered_statistics, **kwargs)\u001b[0m\n\u001b[1;32m    235\u001b[0m     \u001b[0mmin_lift\u001b[0m \u001b[0;34m=\u001b[0m \u001b[0mkwargs\u001b[0m\u001b[0;34m.\u001b[0m\u001b[0mget\u001b[0m\u001b[0;34m(\u001b[0m\u001b[0;34m'min_lift'\u001b[0m\u001b[0;34m,\u001b[0m \u001b[0;36m0.0\u001b[0m\u001b[0;34m)\u001b[0m\u001b[0;34m\u001b[0m\u001b[0;34m\u001b[0m\u001b[0m\n\u001b[1;32m    236\u001b[0m \u001b[0;34m\u001b[0m\u001b[0m\n\u001b[0;32m--> 237\u001b[0;31m     \u001b[0;32mfor\u001b[0m \u001b[0mordered_statistic\u001b[0m \u001b[0;32min\u001b[0m \u001b[0mordered_statistics\u001b[0m\u001b[0;34m:\u001b[0m\u001b[0;34m\u001b[0m\u001b[0;34m\u001b[0m\u001b[0m\n\u001b[0m\u001b[1;32m    238\u001b[0m         \u001b[0;32mif\u001b[0m \u001b[0mordered_statistic\u001b[0m\u001b[0;34m.\u001b[0m\u001b[0mconfidence\u001b[0m \u001b[0;34m<\u001b[0m \u001b[0mmin_confidence\u001b[0m\u001b[0;34m:\u001b[0m\u001b[0;34m\u001b[0m\u001b[0;34m\u001b[0m\u001b[0m\n\u001b[1;32m    239\u001b[0m             \u001b[0;32mcontinue\u001b[0m\u001b[0;34m\u001b[0m\u001b[0;34m\u001b[0m\u001b[0m\n",
      "\u001b[0;32m~/pythonVenv/tensorflow1/lib/python3.6/site-packages/apyori.py\u001b[0m in \u001b[0;36mgen_ordered_statistics\u001b[0;34m(transaction_manager, record)\u001b[0m\n\u001b[1;32m    215\u001b[0m             \u001b[0mitems_add\u001b[0m \u001b[0;34m=\u001b[0m \u001b[0mfrozenset\u001b[0m\u001b[0;34m(\u001b[0m\u001b[0mitems\u001b[0m\u001b[0;34m.\u001b[0m\u001b[0mdifference\u001b[0m\u001b[0;34m(\u001b[0m\u001b[0mitems_base\u001b[0m\u001b[0;34m)\u001b[0m\u001b[0;34m)\u001b[0m\u001b[0;34m\u001b[0m\u001b[0;34m\u001b[0m\u001b[0m\n\u001b[1;32m    216\u001b[0m             confidence = (\n\u001b[0;32m--> 217\u001b[0;31m                 record.support / transaction_manager.calc_support(items_base))\n\u001b[0m\u001b[1;32m    218\u001b[0m             \u001b[0mlift\u001b[0m \u001b[0;34m=\u001b[0m \u001b[0mconfidence\u001b[0m \u001b[0;34m/\u001b[0m \u001b[0mtransaction_manager\u001b[0m\u001b[0;34m.\u001b[0m\u001b[0mcalc_support\u001b[0m\u001b[0;34m(\u001b[0m\u001b[0mitems_add\u001b[0m\u001b[0;34m)\u001b[0m\u001b[0;34m\u001b[0m\u001b[0;34m\u001b[0m\u001b[0m\n\u001b[1;32m    219\u001b[0m             yield OrderedStatistic(\n",
      "\u001b[0;32m~/pythonVenv/tensorflow1/lib/python3.6/site-packages/apyori.py\u001b[0m in \u001b[0;36mcalc_support\u001b[0;34m(self, items)\u001b[0m\n\u001b[1;32m     86\u001b[0m             \u001b[0;32melse\u001b[0m\u001b[0;34m:\u001b[0m\u001b[0;34m\u001b[0m\u001b[0;34m\u001b[0m\u001b[0m\n\u001b[1;32m     87\u001b[0m                 \u001b[0;31m# Calculate the intersection on not the first time.\u001b[0m\u001b[0;34m\u001b[0m\u001b[0;34m\u001b[0m\u001b[0;34m\u001b[0m\u001b[0m\n\u001b[0;32m---> 88\u001b[0;31m                 \u001b[0msum_indexes\u001b[0m \u001b[0;34m=\u001b[0m \u001b[0msum_indexes\u001b[0m\u001b[0;34m.\u001b[0m\u001b[0mintersection\u001b[0m\u001b[0;34m(\u001b[0m\u001b[0mindexes\u001b[0m\u001b[0;34m)\u001b[0m\u001b[0;34m\u001b[0m\u001b[0;34m\u001b[0m\u001b[0m\n\u001b[0m\u001b[1;32m     89\u001b[0m \u001b[0;34m\u001b[0m\u001b[0m\n\u001b[1;32m     90\u001b[0m         \u001b[0;31m# Calculate and return the support.\u001b[0m\u001b[0;34m\u001b[0m\u001b[0;34m\u001b[0m\u001b[0;34m\u001b[0m\u001b[0m\n",
      "\u001b[0;31mKeyboardInterrupt\u001b[0m: "
     ]
    }
   ],
   "source": [
    "dd = list(benignRule)"
   ]
  },
  {
   "cell_type": "code",
   "execution_count": null,
   "metadata": {},
   "outputs": [],
   "source": [
    "malResults"
   ]
  },
  {
   "cell_type": "markdown",
   "metadata": {},
   "source": [
    "## K-means clustering "
   ]
  },
  {
   "cell_type": "code",
   "execution_count": null,
   "metadata": {},
   "outputs": [],
   "source": [
    "# data-processing \n",
    "\n"
   ]
  },
  {
   "cell_type": "code",
   "execution_count": null,
   "metadata": {},
   "outputs": [],
   "source": [
    "ks = range(1, 10)\n",
    "\n",
    "for k in ks:\n",
    "    model = KMeans(n_clusters = k)\n",
    "    model.fit(feature)"
   ]
  }
 ],
 "metadata": {
  "kernelspec": {
   "display_name": "Python 3",
   "language": "python",
   "name": "python3"
  },
  "language_info": {
   "codemirror_mode": {
    "name": "ipython",
    "version": 3
   },
   "file_extension": ".py",
   "mimetype": "text/x-python",
   "name": "python",
   "nbconvert_exporter": "python",
   "pygments_lexer": "ipython3",
   "version": "3.6.9"
  }
 },
 "nbformat": 4,
 "nbformat_minor": 4
}
