{
 "cells": [
  {
   "cell_type": "code",
   "execution_count": 2,
   "metadata": {},
   "outputs": [
    {
     "name": "stdout",
     "output_type": "stream",
     "text": [
      "Thank you so much. That is so nice. he is a great guy. He does not get a fair press. he does not get it. It is just not fair. And I have to tell you I am here, and very strongly here, because I have great respect for Steve King and have great respect likewise for Citizens United, David and everybody, and tremendous resect for the Tea Party. Also, also the people of Iowa. They have something in common. Hard-working people\n"
     ]
    }
   ],
   "source": [
    "sentences = \"Thank you so much. That is so nice. he is a great guy. He does not get a fair press. he does not get it. It is just not fair. And I have to tell you I am here, and very strongly here, because I have great respect for Steve King and have great respect likewise for Citizens United, David and everybody, and tremendous resect for the Tea Party. Also, also the people of Iowa. They have something in common. Hard-working people\"\n",
    "print(sentences)"
   ]
  },
  {
   "cell_type": "code",
   "execution_count": 3,
   "metadata": {},
   "outputs": [
    {
     "data": {
      "image/png": "[encoded data removed]",
      "text/plain": [
       "<IPython.core.display.Image object>"
      ]
     },
     "execution_count": 3,
     "metadata": {},
     "output_type": "execute_result"
    }
   ],
   "source": [
    "from IPython.display import Image\n",
    "Image(\"https://github.com/youngjai12/Bayesian/blob/master/sentenceMarkov.png\")\n"
   ]
  },
  {
   "cell_type": "code",
   "execution_count": 3,
   "metadata": {},
   "outputs": [
    {
     "name": "stdout",
     "output_type": "stream",
     "text": [
      "['Thank', 'you', 'so', 'much.', 'That', 'is', 'so', 'nice.', 'he', 'is', 'a', 'great', 'guy.', 'He', 'does', 'not', 'get', 'a', 'fair', 'press.', 'he', 'does', 'not', 'get', 'it.', 'It', 'is', 'just', 'not', 'fair.', 'And', 'I', 'have', 'to', 'tell', 'you', 'I', 'am', 'here,', 'and', 'very', 'strongly', 'here,', 'because', 'I', 'have', 'great', 'respect', 'for', 'Steve', 'King', 'and', 'have', 'great', 'respect', 'likewise', 'for', 'Citizens', 'United,', 'David', 'and', 'everybody,', 'and', 'tremendous', 'resect', 'for', 'the', 'Tea', 'Party.', 'Also,', 'also', 'the', 'people', 'of', 'Iowa.', 'They', 'have', 'something', 'in', 'common.', 'Hard-working', 'people']\n"
     ]
    }
   ],
   "source": [
    "corpus = sentences.split()\n",
    "print(corpus)"
   ]
  },
  {
   "cell_type": "code",
   "execution_count": 4,
   "metadata": {},
   "outputs": [
    {
     "data": {
      "text/plain": [
       "<generator object make_pairs at 0x7efbf46d4bf8>"
      ]
     },
     "execution_count": 4,
     "metadata": {},
     "output_type": "execute_result"
    }
   ],
   "source": [
    "def make_pairs(corpus):\n",
    "    for i in range(len(corpus) - 1):\n",
    "        yield (corpus[i], corpus[i + 1])\n",
    "\n",
    "pairs = make_pairs(corpus)\n",
    "pairs"
   ]
  },
  {
   "cell_type": "code",
   "execution_count": 5,
   "metadata": {},
   "outputs": [
    {
     "data": {
      "text/plain": [
       "{'Also,': ['also'],\n",
       " 'And': ['I'],\n",
       " 'Citizens': ['United,'],\n",
       " 'David': ['and'],\n",
       " 'Hard-working': ['people'],\n",
       " 'He': ['does'],\n",
       " 'I': ['have', 'am', 'have'],\n",
       " 'Iowa.': ['They'],\n",
       " 'It': ['is'],\n",
       " 'King': ['and'],\n",
       " 'Party.': ['Also,'],\n",
       " 'Steve': ['King'],\n",
       " 'Tea': ['Party.'],\n",
       " 'Thank': ['you'],\n",
       " 'That': ['is'],\n",
       " 'They': ['have'],\n",
       " 'United,': ['David'],\n",
       " 'a': ['great', 'fair'],\n",
       " 'also': ['the'],\n",
       " 'am': ['here,'],\n",
       " 'and': ['very', 'have', 'everybody,', 'tremendous'],\n",
       " 'because': ['I'],\n",
       " 'common.': ['Hard-working'],\n",
       " 'does': ['not', 'not'],\n",
       " 'everybody,': ['and'],\n",
       " 'fair': ['press.'],\n",
       " 'fair.': ['And'],\n",
       " 'for': ['Steve', 'Citizens', 'the'],\n",
       " 'get': ['a', 'it.'],\n",
       " 'great': ['guy.', 'respect', 'respect'],\n",
       " 'guy.': ['He'],\n",
       " 'have': ['to', 'great', 'great', 'something'],\n",
       " 'he': ['is', 'does'],\n",
       " 'here,': ['and', 'because'],\n",
       " 'in': ['common.'],\n",
       " 'is': ['so', 'a', 'just'],\n",
       " 'it.': ['It'],\n",
       " 'just': ['not'],\n",
       " 'likewise': ['for'],\n",
       " 'much.': ['That'],\n",
       " 'nice.': ['he'],\n",
       " 'not': ['get', 'get', 'fair.'],\n",
       " 'of': ['Iowa.'],\n",
       " 'people': ['of'],\n",
       " 'press.': ['he'],\n",
       " 'resect': ['for'],\n",
       " 'respect': ['for', 'likewise'],\n",
       " 'so': ['much.', 'nice.'],\n",
       " 'something': ['in'],\n",
       " 'strongly': ['here,'],\n",
       " 'tell': ['you'],\n",
       " 'the': ['Tea', 'people'],\n",
       " 'to': ['tell'],\n",
       " 'tremendous': ['resect'],\n",
       " 'very': ['strongly'],\n",
       " 'you': ['so', 'I']}"
      ]
     },
     "execution_count": 5,
     "metadata": {},
     "output_type": "execute_result"
    }
   ],
   "source": [
    "word_dict = {}\n",
    "for word_1, word_2 in pairs:\n",
    "    if word_1 in word_dict.keys():\n",
    "        word_dict[word_1].append(word_2)\n",
    "    else:\n",
    "        word_dict[word_1] = [word_2]\n",
    "\n",
    "word_dict        "
   ]
  },
  {
   "cell_type": "code",
   "execution_count": 10,
   "metadata": {},
   "outputs": [
    {
     "name": "stdout",
     "output_type": "stream",
     "text": [
      "['have']\n",
      "have to tell you so much. That is a fair press. he does not get a great guy. He does not\n"
     ]
    }
   ],
   "source": [
    "import numpy as np\n",
    "start_word = np.random.choice(corpus)\n",
    "\n",
    "\n",
    "chain = [start_word]\n",
    "n_words = 20\n",
    "\n",
    "print(chain)\n",
    "for i in range(n_words):\n",
    "    chain.append(np.random.choice(word_dict[chain[-1]]))\n",
    "print(' '.join(chain))    "
   ]
  },
  {
   "cell_type": "code",
   "execution_count": null,
   "metadata": {},
   "outputs": [],
   "source": []
  }
 ],
 "metadata": {
  "kernelspec": {
   "display_name": "Python 3",
   "language": "python",
   "name": "python3"
  },
  "language_info": {
   "codemirror_mode": {
    "name": "ipython",
    "version": 3
   },
   "file_extension": ".py",
   "mimetype": "text/x-python",
   "name": "python",
   "nbconvert_exporter": "python",
   "pygments_lexer": "ipython3",
   "version": "3.6.9"
  }
 },
 "nbformat": 4,
 "nbformat_minor": 2
}
