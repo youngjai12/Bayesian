{
 "cells": [
  {
   "cell_type": "code",
   "execution_count": 7,
   "metadata": {},
   "outputs": [],
   "source": [
    "import numpy as np\n",
    "import matplotlib.pyplot as plt\n",
    "import math \n",
    "from sklearn.linear_model import LinearRegression\n",
    "import pandas as pd\n",
    "import statsmodels.api as sm"
   ]
  },
  {
   "cell_type": "code",
   "execution_count": 51,
   "metadata": {},
   "outputs": [],
   "source": [
    "def bootstrap(data, nboot):\n",
    "    data = np.ravel(data)\n",
    "    \n",
    "    # index 를 여러번 뽑는다. 그래서 그 index로 조회.\n",
    "    idx = np.random.randint(data.size, size = (nboot, data.size))\n",
    "    return data[idx]\n",
    "\n",
    "def getBootCi(data, stat, nboot, alpha=0.05):\n",
    "    # nboot : data.size 만큼씩 몇번 뽑았냐? 이게 많아야 통계량이 많아짐.\n",
    "    booted_data = bootstrap(data, nboot)\n",
    "    print(booted_data.shape)\n",
    "    mean_set = np.sort(stat(booted_data, axis=1))\n",
    "    upper_idx = int(np.round(nboot*(1-(alpha/2))))\n",
    "    lower_idx = int(np.round(nboot*(alpha/2)))\n",
    "    \n",
    "    print(\"upper_idx:\",upper_idx)\n",
    "    print(\"lower_idx:\", lower_idx)\n",
    "    return mean_set[upper_idx], mean_set[lower_idx]\n",
    "    "
   ]
  },
  {
   "cell_type": "code",
   "execution_count": 56,
   "metadata": {},
   "outputs": [
    {
     "data": {
      "text/plain": [
       "array([ 1.45448978,  2.89142295,  2.06180712,  2.34682706,  3.32251521,\n",
       "        3.47045425,  3.01331471,  1.22481047,  4.2167934 ,  3.39772821,\n",
       "        1.94114541,  3.12794119,  2.95200112,  3.54154862,  5.17835046,\n",
       "        4.44468327,  4.37816665,  3.46228866,  1.24968155,  3.07921252,\n",
       "        5.10379713,  3.56684263,  4.15250089,  2.67156363,  2.7525831 ,\n",
       "        4.44085947,  2.59796334,  2.82265963,  5.37197654,  3.473862  ,\n",
       "        3.27643351,  3.5305411 ,  3.013625  ,  1.63943509,  2.69350618,\n",
       "        3.53090537,  1.57667416,  2.84729565,  4.2099952 ,  2.37282725,\n",
       "        2.19681369,  2.83128318,  2.49095655,  3.7507876 ,  0.63063386,\n",
       "        2.53934473,  3.11129315,  3.47953637,  2.41314469,  3.56734613,\n",
       "        3.80172369,  3.36724555,  4.49915968,  1.69815568,  2.59847764,\n",
       "        2.63955715,  5.01641589,  4.81236422,  2.95781454,  2.97788679,\n",
       "        3.76079929,  3.55795818,  2.26802638,  2.96086197,  2.85478605,\n",
       "        2.72891754,  1.10563005,  1.98659516,  2.69641368,  4.85844419,\n",
       "        3.53758559,  4.26422154,  2.12081604,  3.1839042 ,  4.40114602,\n",
       "        1.30429821,  1.00387788,  4.1824791 ,  4.9177166 ,  4.83163988,\n",
       "        2.1921944 ,  2.20816788,  3.34121696,  2.58041754,  3.08548706,\n",
       "        2.40964523,  4.19964753,  3.90441358,  1.94146009,  2.04647716,\n",
       "        2.70596443,  1.69359312,  2.46138404,  2.03966737,  1.07309864,\n",
       "        3.49973705,  4.38322092,  1.7574139 ,  2.37462213,  1.430972  ,\n",
       "        2.10536741,  1.65649988,  2.59096908,  2.78042825,  3.9702693 ,\n",
       "        1.98103735,  3.27570764,  3.3118482 ,  0.87720725,  3.01810555,\n",
       "        4.61467755,  4.22184195,  4.44213849,  3.48014127,  3.49211392,\n",
       "        3.98952725,  0.77981843,  4.73865585,  4.21060414,  4.70424048,\n",
       "        1.91905421,  3.15533636,  2.49615452,  1.55641927,  1.58527468,\n",
       "        2.87937802,  4.71512953,  4.67813435,  3.65809237,  1.4632648 ,\n",
       "        2.41424913,  4.48577618,  3.49985741,  4.04901233,  4.16075112,\n",
       "        3.38397961,  2.9242195 ,  3.75753192,  2.28880988,  2.53247868,\n",
       "        3.66287427,  4.46245357,  4.79669919,  3.03209433,  2.66854187,\n",
       "        3.94477606,  4.24040153,  2.23294558,  2.29126311,  3.33491821,\n",
       "        3.60526171,  3.36719331,  3.11250346,  3.05094059,  3.24899747,\n",
       "        1.97393449,  1.14011446,  3.37167159,  3.67892618,  4.20525264,\n",
       "        2.29588251,  5.03567302,  3.50268892,  2.51485456,  3.33857035,\n",
       "        3.13942186,  0.61270139,  1.72714642,  3.92979128,  2.85122922,\n",
       "        1.04436044,  2.14555835,  3.74289371,  1.10422592,  3.24987722,\n",
       "        2.47396907,  4.08643595,  4.29957918,  2.20489111,  3.14107474,\n",
       "        2.17941622,  3.43400702,  1.31371839,  2.81035612,  2.44325749,\n",
       "        3.01791308,  3.37226317,  2.4232822 ,  2.95276739,  3.14882115,\n",
       "        2.41679109,  1.63129749,  3.09291724,  4.4739854 ,  2.98414568,\n",
       "        2.14470262,  2.98555736,  3.95179259,  4.97724421,  2.80076769,\n",
       "        3.17100374,  2.25313308,  2.81828582,  1.79235945,  4.15174361,\n",
       "        5.41866458,  2.79181783,  3.75825664,  4.49507538,  3.92140961,\n",
       "        4.40026536,  3.5976686 ,  4.17595511,  2.36070021,  2.30608217,\n",
       "        3.80740235,  1.51110067,  3.59991086,  2.50112455,  1.36040213,\n",
       "        3.85272392,  2.22714211,  2.22873723,  3.01285984,  2.61518103,\n",
       "        3.62468906,  1.69558638,  2.19432886,  0.60202082,  2.764215  ,\n",
       "        1.79550836,  3.67456111,  2.29483454,  3.34977644,  4.91595828,\n",
       "        3.02592323,  3.20906425,  3.72230207,  1.957203  ,  2.2283805 ,\n",
       "        4.71405563,  3.70180166,  3.16838903,  3.55608946,  3.41471743,\n",
       "        1.65778606,  4.75063099,  4.53172376,  5.18864588,  3.87460504,\n",
       "        3.35454793,  1.72286002,  2.07498112,  4.32690794,  4.82370629,\n",
       "        3.04880246,  1.87394615,  3.44394364,  3.13288351,  2.40534287,\n",
       "        1.98026415,  2.45333622,  3.62602906,  1.82451307,  1.36396466,\n",
       "        4.03643347,  2.57472855,  3.47165817,  3.03483384,  2.74769126,\n",
       "        2.5270525 ,  3.97866104,  4.09971749,  3.8665472 ,  1.57275977,\n",
       "        3.10611085,  2.78828819,  3.14181747,  1.44292942,  1.97553762,\n",
       "        3.75409689,  2.95191129,  1.11708444,  4.14198555,  3.4762172 ,\n",
       "        4.20450616,  2.95747543,  4.72834261,  2.72546493,  3.3307285 ,\n",
       "        3.5280901 ,  4.26559368,  2.38915242,  2.69698703,  3.86495184,\n",
       "        2.28419785,  4.46217169,  3.00017499,  2.55153727,  3.15463753,\n",
       "        3.29975964,  2.01505775,  1.55089125,  2.95146121,  4.61541125,\n",
       "        3.34494236,  2.66875209,  0.85244781,  2.09961778,  2.3751217 ,\n",
       "        4.82689372,  3.58248492,  3.3062101 ,  1.36825584,  2.97749521,\n",
       "        3.58323473,  4.74522159,  3.98992   ,  2.73237974,  2.21819774,\n",
       "        4.46941157,  3.03595529,  4.23509099,  4.59978098,  3.24837126,\n",
       "        3.8041119 ,  3.55649373,  3.23363617,  2.77778455,  4.05565451,\n",
       "        1.50937252,  2.63498599,  3.55442622,  2.2003787 ,  2.79246395,\n",
       "        3.73520463,  2.67598481,  2.91787358,  3.82718877,  5.00040261,\n",
       "        1.59197488,  1.02051585,  4.08082788,  2.47763339,  1.99539216,\n",
       "        3.37370922,  1.89630391,  2.15833797,  3.04681548,  3.249015  ,\n",
       "        2.9853163 ,  2.88458503,  3.94451335,  2.42823197,  2.52704994,\n",
       "        3.40996992,  2.65638827,  3.8077144 ,  3.13998193,  5.02628034,\n",
       "        5.10522575,  2.35535487,  3.25435999,  2.63011645,  2.2833703 ,\n",
       "        2.51189236,  2.00057811,  3.59142817,  3.1310982 ,  2.5214683 ,\n",
       "        0.84413911,  1.57410676,  1.2214002 ,  3.83557683,  2.80935105,\n",
       "        1.03821519,  4.24118672,  2.18471399,  1.15544217,  4.02390852,\n",
       "        1.47262485,  1.69010968,  1.76913968,  4.39595395,  3.59941029,\n",
       "        4.27014098,  3.13428856,  4.03105829,  4.42665007,  4.03357306,\n",
       "        1.56766645,  4.00214604,  1.52201944,  2.49227504,  2.72838296,\n",
       "        3.18273659,  1.65507974,  1.78013355,  1.96062801,  3.32043415,\n",
       "        1.69987899,  2.76538069,  4.68228523,  1.06042164,  2.46209432,\n",
       "        4.7805311 ,  4.06791027,  2.40772222,  4.02683686,  3.93865696,\n",
       "        3.08707895,  3.45263397,  3.00128102,  3.92142295,  3.82903225,\n",
       "        2.73431193,  2.45946597,  2.9877908 ,  3.784362  ,  3.91172183,\n",
       "        1.0774931 ,  3.38509861,  3.15202667,  2.68676918,  3.71126965,\n",
       "        4.14611256,  2.97902218,  5.71614136,  4.23050026,  3.74258495,\n",
       "        3.88409484,  2.05463119,  2.00148841,  1.73506991,  2.73156166,\n",
       "        5.27080921,  2.98310652,  4.33200137,  3.23699265,  1.67452006,\n",
       "        2.40097082,  2.92269693,  2.65630979,  3.46607447,  3.82972504,\n",
       "        4.80047419,  2.46812404,  2.50868609,  2.20703098,  3.47037256,\n",
       "        2.13098829,  4.5621238 ,  3.64061872,  2.21752086,  2.70393254,\n",
       "        3.26948163,  3.40913526,  1.49283145,  3.98891377,  2.48040361,\n",
       "        2.50579413,  5.09140264,  2.94747939,  3.07899744,  3.88393072,\n",
       "        1.26038346,  3.16687631,  4.21738628,  2.94921361,  2.79416497,\n",
       "        0.98640481,  3.40914181,  3.80058124,  2.92420223,  3.86986712,\n",
       "        2.32358186,  3.09496063,  1.99194344,  4.10922305,  2.24727061,\n",
       "        3.72725738,  2.42627463,  3.11945378,  2.471546  ,  1.74561569,\n",
       "        3.51400274,  1.75007765,  3.59472055,  3.84599398,  3.10880699,\n",
       "        3.18841795,  3.08849345,  4.44917001,  2.8087717 ,  4.09172525,\n",
       "        2.41330479,  2.6994214 ,  2.86713005,  2.86935327,  2.92402453,\n",
       "        2.61850911,  4.0286946 ,  2.59109367,  2.60251288,  1.50525496,\n",
       "        3.67042132,  1.03427702,  2.82379763,  3.8499362 ,  3.9166069 ,\n",
       "        3.87932281,  3.03945382,  1.82138652,  2.08350129,  4.10035113,\n",
       "        2.42645871,  3.85929569,  1.73173931,  1.51232974,  4.74225456,\n",
       "        3.51030727,  1.66172787,  3.30955599,  0.98854073,  2.18573506,\n",
       "        2.8698032 ,  5.1717355 ,  2.27435418,  4.20887352,  1.00585766,\n",
       "        2.49260671,  2.25710442,  3.43220561,  4.00129334,  1.41091026,\n",
       "        2.53849528,  3.06250152,  2.72503027,  3.32000061,  1.91879371,\n",
       "        2.25094265,  2.2590628 ,  3.42679356,  2.91322045,  2.14975932,\n",
       "        3.91652212,  1.66849435,  2.09935809,  2.10539765,  2.82817478,\n",
       "        2.70615332,  3.34588358,  2.69716099,  4.84386181,  2.91237723,\n",
       "        2.05053079,  2.00285317,  1.12454892,  3.51454215,  2.29184724,\n",
       "        2.0798552 ,  2.33318696,  2.86331754,  4.67129025,  2.39447544,\n",
       "        2.22532248,  4.85227145,  1.10776499,  2.60033115,  2.58433695,\n",
       "        3.54740057,  3.46833478,  2.10530739,  2.18137185,  2.76965343,\n",
       "        3.24946828,  3.75807087,  3.12014948,  3.09802943,  2.72719549,\n",
       "        4.69175802,  2.72681214,  2.88917723,  2.34709555,  2.81807787,\n",
       "        1.33673427,  4.92466805,  2.92353976,  1.87207853,  3.96547526,\n",
       "        1.50125544,  1.92300712,  2.31935009,  4.03983539,  4.39980173,\n",
       "        2.90687597,  3.132863  ,  2.09264142,  4.54854786,  3.40752506,\n",
       "        3.15505629,  2.70237142,  2.69510612,  2.18622614,  1.72855759,\n",
       "        3.32468817,  4.2662385 ,  3.40923653,  4.10539081,  3.01110568,\n",
       "        3.89357856,  3.72454374,  2.56998872,  2.09795383,  4.76788821,\n",
       "        3.06958448,  4.48062063,  2.06026495,  1.5431844 ,  4.04946451,\n",
       "        3.52478748,  3.0497753 ,  3.57938399,  2.7497984 ,  4.28921244,\n",
       "        3.86756035,  4.49318844,  3.70820822,  2.99217903,  1.21278395,\n",
       "        2.48359446,  2.54925068,  2.31681779,  2.41944241,  4.57589538,\n",
       "        2.60344211,  3.15692955,  2.22913503,  3.78045869,  3.62134096,\n",
       "        2.09655576,  1.78785838,  5.2679365 ,  3.45369041,  1.69738413,\n",
       "        3.54921993,  2.32783408,  3.20459394,  4.02429831,  2.99385667,\n",
       "        2.48440393,  6.02375884,  3.46603725,  3.47278436,  2.48070504,\n",
       "        3.32991455,  1.83954982,  4.03194565,  4.50192275,  1.83656532,\n",
       "        3.54919507,  3.09588744,  1.6267609 ,  3.95617681,  2.14021446,\n",
       "        3.64232335,  3.12863766,  3.32057152,  1.10473771,  1.07716987,\n",
       "        1.96300024,  3.87708769,  1.96991125,  3.51158473,  3.59699446,\n",
       "        3.16700005,  1.41835587,  2.40717834,  3.30411111,  3.71485218,\n",
       "        1.62060797,  1.51453071,  1.94119432,  2.63094552,  4.02187173,\n",
       "        2.41364854,  5.58807012,  3.01747834,  4.34323389,  2.70635078,\n",
       "        3.61112415,  3.79689463,  4.14911186,  1.9629282 ,  1.97466445,\n",
       "        3.2365391 ,  1.92817299,  2.38504783,  3.30872638,  4.17272488,\n",
       "        1.90660931,  3.34618727,  3.50287215,  4.21469983,  3.11703025,\n",
       "        3.24260808,  3.70461307,  4.12650093,  2.83643555,  4.46954146,\n",
       "        3.95128238,  3.53925444,  3.48077031,  2.97777158,  1.40407642,\n",
       "        5.2281216 ,  3.0114497 ,  3.36807199,  1.08993552,  4.49763133,\n",
       "        3.72291726,  2.94793947,  4.06200396,  3.53090201,  2.69861779,\n",
       "        4.77183857,  4.88453712,  3.022236  ,  3.29632002,  3.96698523,\n",
       "        3.83686116,  2.97854178,  3.48224351,  4.06682742,  5.20151209,\n",
       "        3.8872402 ,  1.81505513,  4.61873556,  4.75665055,  3.05032824,\n",
       "        4.1243083 ,  3.47492407,  2.45970214,  1.01183557,  2.68806418,\n",
       "        2.56389314,  2.47260826,  3.43649287,  3.10712306,  1.82133304,\n",
       "        3.77617523,  2.0267007 ,  4.36177187,  1.81944506,  3.60023546,\n",
       "        1.65429941,  3.48692349,  1.84296868,  3.40334193,  4.59411609,\n",
       "        2.90537835,  2.90044637,  2.71023942,  3.05493021,  2.08137526,\n",
       "        3.85155811,  2.22143309,  2.05605696,  2.08440133,  4.43708314,\n",
       "        1.27130138,  4.01466535,  2.33113853,  1.96502647,  1.32559489,\n",
       "        2.04025746,  3.9698784 ,  4.55284914,  1.45507965,  2.19628339,\n",
       "        4.08128227,  3.73652471,  1.35218395,  2.03946515,  2.34389892,\n",
       "        4.20726062,  2.57887003,  2.44564279,  2.95622987,  2.20330739,\n",
       "        2.47813971,  3.91391939,  3.49933086,  2.72980826,  5.29856394,\n",
       "        3.39931394,  3.43405429,  4.28144513,  1.60281076,  2.91020194,\n",
       "        2.80459581,  1.32138073,  3.29330913,  3.63804784,  2.62321852,\n",
       "        3.65998953,  4.49819331,  2.40477315,  2.75735648,  2.30948171,\n",
       "        3.17346617,  3.4851448 ,  2.39867791,  4.04968612,  2.72381913,\n",
       "        1.24764001,  1.18800121,  3.93665023,  4.35871531,  2.41046791,\n",
       "        2.50528899,  1.11609112,  3.50937725,  3.40409916,  5.78808699,\n",
       "        3.0313808 ,  4.01705999,  2.92256476,  3.55310439,  3.17071349,\n",
       "        3.98524767,  2.39351427,  3.20220774,  2.90129564,  3.58557222,\n",
       "        1.81149589,  2.73122694,  0.90329531,  2.32824676,  3.86792276,\n",
       "        5.18813706,  4.56503907,  1.10271047,  3.39134106,  2.26114825,\n",
       "        3.53199533,  4.07023726,  2.76086988,  5.54291819,  2.5892835 ,\n",
       "        3.61459869,  2.83825567,  3.90488865,  3.7538116 ,  2.61046629,\n",
       "        2.26222837,  2.7227179 ,  3.35262093,  0.98533851,  1.37429477,\n",
       "        4.1212819 ,  2.40944683,  2.61881745,  3.76378022,  3.66365593,\n",
       "        3.37400616,  3.84394292,  3.60127164,  1.88969236,  4.05306151,\n",
       "        4.98525708,  4.23504236,  3.15620479,  3.01763463,  3.11137115,\n",
       "        3.63816649,  3.21958706,  3.06315816,  1.75172945,  2.37479314,\n",
       "        3.84407146,  1.26126746,  3.30039623,  3.41614548,  4.65416553,\n",
       "        1.67289617,  4.91808597,  4.17430208,  2.877139  ,  3.32608895,\n",
       "        1.80313184,  1.36497289,  2.12933635,  4.05674611,  2.42510716,\n",
       "        1.79152569,  0.9333668 ,  3.32803647,  3.79715291,  3.7336552 ,\n",
       "        3.76510486,  2.78282329,  2.52877557,  4.94309892,  0.98059667,\n",
       "        1.96438321,  3.77145363,  1.44746942,  1.84935955,  2.41809816,\n",
       "        2.42807752,  3.18011621,  3.15169908,  2.94916875,  2.44022716,\n",
       "        3.37859327,  2.04278909,  2.83714224,  2.95484707,  3.80866969,\n",
       "        1.01993788,  3.08520413,  2.91486212,  1.21012253,  2.97116775,\n",
       "        1.90679473,  4.10372533,  3.06655497,  2.87836017,  4.17129091,\n",
       "        2.32748302,  4.73091936,  2.13918577,  4.48209547, -0.32362068,\n",
       "        3.40703031,  2.86575504,  2.0307372 ,  2.73367428,  2.41250755,\n",
       "        3.19159731,  3.03894234,  3.49379267,  2.03687691,  2.26002503,\n",
       "        4.35483645,  4.31396065,  3.28930897,  1.7775789 ,  3.85195639,\n",
       "        2.63703516,  2.21041325,  4.54185446,  2.25624873,  1.76376253,\n",
       "        2.40635243,  2.62495687,  2.78744954,  2.54188523,  3.43947651,\n",
       "        2.95424048,  1.1352189 ,  3.78472028,  2.1257307 ,  1.1980021 ,\n",
       "        2.57783267,  1.81133212,  1.96655283,  2.98906324,  3.03123475,\n",
       "        2.28685541,  4.53152616,  4.41558153,  2.48317298,  2.87137242,\n",
       "        0.30300576,  2.48463854,  1.27876558,  2.53325533,  1.71964075,\n",
       "        3.88059862,  1.47484312,  3.00875361,  3.24532532,  1.45789807,\n",
       "        3.95346185,  3.4681931 ,  6.07629517,  2.597893  ,  3.0407051 ,\n",
       "        2.1617465 ,  4.38871543,  1.89566754,  3.00453784,  3.26102508,\n",
       "        4.01400199,  2.64906282,  3.91472451,  2.70732763,  2.56762216])"
      ]
     },
     "execution_count": 56,
     "metadata": {},
     "output_type": "execute_result"
    }
   ],
   "source": [
    "mean = 3\n",
    "std = 1\n",
    "data = np.random.normal(mean, std, 1000)\n",
    "data"
   ]
  },
  {
   "cell_type": "code",
   "execution_count": 59,
   "metadata": {},
   "outputs": [
    {
     "data": {
      "text/plain": [
       "(array([ 1.,  0.,  0.,  1.,  0.,  3.,  1.,  5., 23., 16., 16., 25., 28.,\n",
       "        28., 41., 47., 42., 65., 51., 53., 69., 61., 47., 62., 47., 41.,\n",
       "        49., 42., 30., 25., 22., 18., 15.,  9.,  8.,  3.,  2.,  1.,  1.,\n",
       "         2.]),\n",
       " array([-3.23620684e-01, -1.63622788e-01, -3.62489151e-03,  1.56373005e-01,\n",
       "         3.16370901e-01,  4.76368797e-01,  6.36366693e-01,  7.96364590e-01,\n",
       "         9.56362486e-01,  1.11636038e+00,  1.27635828e+00,  1.43635617e+00,\n",
       "         1.59635407e+00,  1.75635197e+00,  1.91634986e+00,  2.07634776e+00,\n",
       "         2.23634566e+00,  2.39634355e+00,  2.55634145e+00,  2.71633934e+00,\n",
       "         2.87633724e+00,  3.03633514e+00,  3.19633303e+00,  3.35633093e+00,\n",
       "         3.51632883e+00,  3.67632672e+00,  3.83632462e+00,  3.99632251e+00,\n",
       "         4.15632041e+00,  4.31631831e+00,  4.47631620e+00,  4.63631410e+00,\n",
       "         4.79631200e+00,  4.95630989e+00,  5.11630779e+00,  5.27630568e+00,\n",
       "         5.43630358e+00,  5.59630148e+00,  5.75629937e+00,  5.91629727e+00,\n",
       "         6.07629517e+00]),\n",
       " <a list of 40 Patch objects>)"
      ]
     },
     "execution_count": 59,
     "metadata": {},
     "output_type": "execute_result"
    },
    {
     "data": {
      "image/png": "[encoded data removed]",
      "text/plain": [
       "<Figure size 432x288 with 1 Axes>"
      ]
     },
     "metadata": {
      "needs_background": "light"
     },
     "output_type": "display_data"
    }
   ],
   "source": [
    "plt.hist(data, bins=40)"
   ]
  },
  {
   "cell_type": "markdown",
   "metadata": {},
   "source": [
    "### theoretical mean Ci 5% in Normal distribution \n",
    "\n",
    "sample_mean = 3 , sampled_std = 1\n",
    "\n",
    "$$\n",
    "\\bar{x}-1.96 \\times \\frac{\\sigma}{\\sqrt{n}} < \\mu < \\bar{x}+1.96 \\times \\frac{\\sigma}{\\sqrt{n}}\n",
    "$$\n",
    "\n"
   ]
  },
  {
   "cell_type": "code",
   "execution_count": 60,
   "metadata": {},
   "outputs": [
    {
     "name": "stdout",
     "output_type": "stream",
     "text": [
      "1000\n",
      "lower_bound  2.9380193578607\n",
      "upper_bound  3.0619806421393\n"
     ]
    }
   ],
   "source": [
    "\n",
    "sample_count = data.size\n",
    "print(sample_count)\n",
    "lower_bound = 3 - 1.96*(1/math.sqrt(sample_count))\n",
    "upper_bound = 3 + 1.96*(1/math.sqrt(sample_count))\n",
    "\n",
    "print(\"lower_bound \", lower_bound)\n",
    "print(\"upper_bound \", upper_bound)"
   ]
  },
  {
   "cell_type": "code",
   "execution_count": 61,
   "metadata": {},
   "outputs": [
    {
     "name": "stdout",
     "output_type": "stream",
     "text": [
      "(50000, 1000)\n",
      "upper_idx: 48750\n",
      "lower_idx: 1250\n",
      "lower_bound  2.9490305580017577\n",
      "upper_bound  3.075428891295221\n"
     ]
    }
   ],
   "source": [
    "upper, lower = getBootCi(data, np.mean, 50000, 0.05)\n",
    "print(\"lower_bound \", lower)\n",
    "print(\"upper_bound \", upper)"
   ]
  },
  {
   "cell_type": "markdown",
   "metadata": {},
   "source": [
    "## Coefficient Estimation "
   ]
  },
  {
   "cell_type": "code",
   "execution_count": 59,
   "metadata": {},
   "outputs": [],
   "source": [
    "data_count = 50 \n",
    "\n",
    "x1 = np.random.uniform(0, 20, data_count)\n",
    "x2 = np.random.uniform(-20, 20, data_count)\n",
    "y = 2+ 5*x1 - 2*x2 + np.random.normal(0, 5, data_count)\n"
   ]
  },
  {
   "cell_type": "code",
   "execution_count": 60,
   "metadata": {},
   "outputs": [],
   "source": [
    "mlr = LinearRegression()\n",
    "dataframe = pd.DataFrame({\"x1\":x1, \"x2\": x2, \"y\": y})\n",
    "\n",
    "x_train = dataframe[[\"x1\", \"x2\"]]\n",
    "y_train = dataframe[[\"y\"]]\n",
    "# mlr.fit(x_train, y_train)\n",
    "x_train = sm.add_constant(x_train)\n",
    "\n",
    "smOLSmodel = sm.OLS(y_train, x_train).fit()\n"
   ]
  },
  {
   "cell_type": "code",
   "execution_count": 61,
   "metadata": {},
   "outputs": [
    {
     "data": {
      "text/plain": [
       "<matplotlib.collections.PathCollection at 0x7ff93b3f0e48>"
      ]
     },
     "execution_count": 61,
     "metadata": {},
     "output_type": "execute_result"
    },
    {
     "data": {
      "image/png": "[encoded data removed]",
      "text/plain": [
       "<Figure size 432x288 with 1 Axes>"
      ]
     },
     "metadata": {
      "needs_background": "light"
     },
     "output_type": "display_data"
    }
   ],
   "source": [
    "fitted_value = smOLSmodel.predict(x_train)\n",
    "plt.scatter(fitted_value, y_train)"
   ]
  },
  {
   "cell_type": "code",
   "execution_count": 62,
   "metadata": {},
   "outputs": [
    {
     "name": "stdout",
     "output_type": "stream",
     "text": [
      "                            OLS Regression Results                            \n",
      "==============================================================================\n",
      "Dep. Variable:                      y   R-squared:                       0.976\n",
      "Model:                            OLS   Adj. R-squared:                  0.975\n",
      "Method:                 Least Squares   F-statistic:                     960.3\n",
      "Date:                Tue, 28 Jul 2020   Prob (F-statistic):           7.71e-39\n",
      "Time:                        23:05:02   Log-Likelihood:                -147.32\n",
      "No. Observations:                  50   AIC:                             300.6\n",
      "Df Residuals:                      47   BIC:                             306.4\n",
      "Df Model:                           2                                         \n",
      "Covariance Type:            nonrobust                                         \n",
      "==============================================================================\n",
      "                 coef    std err          t      P>|t|      [0.025      0.975]\n",
      "------------------------------------------------------------------------------\n",
      "const          1.2368      1.518      0.815      0.419      -1.818       4.291\n",
      "x1             5.0189      0.133     37.674      0.000       4.751       5.287\n",
      "x2            -2.0370      0.066    -31.056      0.000      -2.169      -1.905\n",
      "==============================================================================\n",
      "Omnibus:                        5.844   Durbin-Watson:                   1.926\n",
      "Prob(Omnibus):                  0.054   Jarque-Bera (JB):                4.706\n",
      "Skew:                           0.647   Prob(JB):                       0.0951\n",
      "Kurtosis:                       3.763   Cond. No.                         25.7\n",
      "==============================================================================\n",
      "\n",
      "Warnings:\n",
      "[1] Standard Errors assume that the covariance matrix of the errors is correctly specified.\n"
     ]
    }
   ],
   "source": [
    "print(smOLSmodel.summary())"
   ]
  },
  {
   "cell_type": "markdown",
   "metadata": {},
   "source": [
    "### bootstrap 으로 회귀계수 구하기 "
   ]
  },
  {
   "cell_type": "code",
   "execution_count": 63,
   "metadata": {},
   "outputs": [
    {
     "name": "stdout",
     "output_type": "stream",
     "text": [
      "const    1.236843\n",
      "x1       5.018907\n",
      "x2      -2.036979\n",
      "dtype: float64\n"
     ]
    }
   ],
   "source": [
    "print(smOLSmodel.params)"
   ]
  },
  {
   "cell_type": "code",
   "execution_count": 64,
   "metadata": {},
   "outputs": [],
   "source": [
    "def bootstrapDF(df, nboot):\n",
    "    row_count = dataframe.shape[0]\n",
    "    constant_list = []\n",
    "    x1_list = []\n",
    "    x2_list = []\n",
    "    for nrounds in range(nboot):\n",
    "        if nrounds%1000 ==0:\n",
    "            print(\"nrounds: \", nrounds)\n",
    "        idx = np.ravel(np.random.randint(row_count, size = row_count))\n",
    "        temp_df = dataframe.iloc[idx]\n",
    "        x_train = temp_df[[\"x1\",  \"x2\"]]\n",
    "        y_train = temp_df[[\"y\"]]\n",
    "        x_train = sm.add_constant(x_train)\n",
    "        smOLSmodel = sm.OLS(y_train, x_train).fit()\n",
    "        coefs = smOLSmodel.params\n",
    "        constant_list.append(coefs[0])\n",
    "        x1_list.append(coefs[1])\n",
    "        x2_list.append(coefs[2])\n",
    "    return constant_list, x1_list, x2_list    \n",
    "        \n",
    "    "
   ]
  },
  {
   "cell_type": "code",
   "execution_count": 65,
   "metadata": {},
   "outputs": [
    {
     "name": "stdout",
     "output_type": "stream",
     "text": [
      "nrounds:  0\n",
      "nrounds:  1000\n",
      "nrounds:  2000\n",
      "nrounds:  3000\n",
      "nrounds:  4000\n"
     ]
    }
   ],
   "source": [
    "const, x1, x2 = bootstrapDF(dataframe, 5000)"
   ]
  },
  {
   "cell_type": "code",
   "execution_count": 68,
   "metadata": {},
   "outputs": [
    {
     "name": "stdout",
     "output_type": "stream",
     "text": [
      "1.2531268717956392\n",
      "1.3687669698838194\n",
      "5.0158338681845445\n",
      "0.12380261094184512\n",
      "-2.0351291407135306\n",
      "0.07112460362405744\n"
     ]
    }
   ],
   "source": [
    "from scipy import stats\n",
    "\n",
    "print(np.mean(const))\n",
    "print(np.std(const))\n",
    "\n",
    "print(np.mean(x1))\n",
    "print(np.std(x1))\n",
    "\n",
    "print(np.mean(x2))\n",
    "print(np.std(x2))\n"
   ]
  },
  {
   "cell_type": "code",
   "execution_count": null,
   "metadata": {},
   "outputs": [],
   "source": []
  }
 ],
 "metadata": {
  "kernelspec": {
   "display_name": "Python 3",
   "language": "python",
   "name": "python3"
  },
  "language_info": {
   "codemirror_mode": {
    "name": "ipython",
    "version": 3
   },
   "file_extension": ".py",
   "mimetype": "text/x-python",
   "name": "python",
   "nbconvert_exporter": "python",
   "pygments_lexer": "ipython3",
   "version": "3.6.9"
  }
 },
 "nbformat": 4,
 "nbformat_minor": 4
}
