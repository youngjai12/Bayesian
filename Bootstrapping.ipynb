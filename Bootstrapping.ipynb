{
 "cells": [
  {
   "cell_type": "code",
   "execution_count": 2,
   "metadata": {},
   "outputs": [],
   "source": [
    "import numpy as np\n",
    "import matplotlib.pyplot as plt\n",
    "import math \n",
    "from sklearn.linear_model import LinearRegression\n",
    "import pandas as pd\n",
    "import statsmodels.api as sm"
   ]
  },
  {
   "cell_type": "code",
   "execution_count": 51,
   "metadata": {},
   "outputs": [],
   "source": [
    "def bootstrap(data, nboot):\n",
    "    data = np.ravel(data)\n",
    "    \n",
    "    # index 를 여러번 뽑는다. 그래서 그 index로 조회.\n",
    "    idx = np.random.randint(data.size, size = (nboot, data.size))\n",
    "    return data[idx]\n",
    "\n",
    "def getBootCi(data, stat, nboot, alpha=0.05):\n",
    "    # nboot : data.size 만큼씩 몇번 뽑았냐? 이게 많아야 통계량이 많아짐.\n",
    "    booted_data = bootstrap(data, nboot)\n",
    "    print(booted_data.shape)\n",
    "    mean_set = np.sort(stat(booted_data, axis=1))\n",
    "    upper_idx = int(np.round(nboot*(1-(alpha/2))))\n",
    "    lower_idx = int(np.round(nboot*(alpha/2)))\n",
    "    \n",
    "    print(\"upper_idx:\",upper_idx)\n",
    "    print(\"lower_idx:\", lower_idx)\n",
    "    return mean_set[upper_idx], mean_set[lower_idx]\n",
    "    "
   ]
  },
  {
   "cell_type": "code",
   "execution_count": 3,
   "metadata": {},
   "outputs": [],
   "source": [
    "mean = 3\n",
    "std = 1\n",
    "data = np.random.normal(mean, std, 1000)"
   ]
  },
  {
   "cell_type": "code",
   "execution_count": 59,
   "metadata": {},
   "outputs": [
    {
     "data": {
      "text/plain": [
       "(array([ 1.,  0.,  0.,  1.,  0.,  3.,  1.,  5., 23., 16., 16., 25., 28.,\n",
       "        28., 41., 47., 42., 65., 51., 53., 69., 61., 47., 62., 47., 41.,\n",
       "        49., 42., 30., 25., 22., 18., 15.,  9.,  8.,  3.,  2.,  1.,  1.,\n",
       "         2.]),\n",
       " array([-3.23620684e-01, -1.63622788e-01, -3.62489151e-03,  1.56373005e-01,\n",
       "         3.16370901e-01,  4.76368797e-01,  6.36366693e-01,  7.96364590e-01,\n",
       "         9.56362486e-01,  1.11636038e+00,  1.27635828e+00,  1.43635617e+00,\n",
       "         1.59635407e+00,  1.75635197e+00,  1.91634986e+00,  2.07634776e+00,\n",
       "         2.23634566e+00,  2.39634355e+00,  2.55634145e+00,  2.71633934e+00,\n",
       "         2.87633724e+00,  3.03633514e+00,  3.19633303e+00,  3.35633093e+00,\n",
       "         3.51632883e+00,  3.67632672e+00,  3.83632462e+00,  3.99632251e+00,\n",
       "         4.15632041e+00,  4.31631831e+00,  4.47631620e+00,  4.63631410e+00,\n",
       "         4.79631200e+00,  4.95630989e+00,  5.11630779e+00,  5.27630568e+00,\n",
       "         5.43630358e+00,  5.59630148e+00,  5.75629937e+00,  5.91629727e+00,\n",
       "         6.07629517e+00]),\n",
       " <a list of 40 Patch objects>)"
      ]
     },
     "execution_count": 59,
     "metadata": {},
     "output_type": "execute_result"
    },
    {
     "data": {
      "image/png": "[encoded data removed]",
      "text/plain": [
       "<Figure size 432x288 with 1 Axes>"
      ]
     },
     "metadata": {
      "needs_background": "light"
     },
     "output_type": "display_data"
    }
   ],
   "source": [
    "plt.hist(data, bins=40)"
   ]
  },
  {
   "cell_type": "markdown",
   "metadata": {},
   "source": [
    "### theoretical mean Ci 5% in Normal distribution \n",
    "\n",
    "sample_mean = 3 , sampled_std = 1\n",
    "\n",
    "$$\n",
    "\\bar{x}-1.96 \\times \\frac{\\sigma}{\\sqrt{n}} < \\mu < \\bar{x}+1.96 \\times \\frac{\\sigma}{\\sqrt{n}}\n",
    "$$\n",
    "\n"
   ]
  },
  {
   "cell_type": "code",
   "execution_count": 60,
   "metadata": {},
   "outputs": [
    {
     "name": "stdout",
     "output_type": "stream",
     "text": [
      "1000\n",
      "lower_bound  2.9380193578607\n",
      "upper_bound  3.0619806421393\n"
     ]
    }
   ],
   "source": [
    "\n",
    "sample_count = data.size\n",
    "print(sample_count)\n",
    "lower_bound = 3 - 1.96*(1/math.sqrt(sample_count))\n",
    "upper_bound = 3 + 1.96*(1/math.sqrt(sample_count))\n",
    "\n",
    "print(\"lower_bound \", lower_bound)\n",
    "print(\"upper_bound \", upper_bound)"
   ]
  },
  {
   "cell_type": "code",
   "execution_count": 61,
   "metadata": {},
   "outputs": [
    {
     "name": "stdout",
     "output_type": "stream",
     "text": [
      "(50000, 1000)\n",
      "upper_idx: 48750\n",
      "lower_idx: 1250\n",
      "lower_bound  2.9490305580017577\n",
      "upper_bound  3.075428891295221\n"
     ]
    }
   ],
   "source": [
    "upper, lower = getBootCi(data, np.mean, 50000, 0.05)\n",
    "print(\"lower_bound \", lower)\n",
    "print(\"upper_bound \", upper)"
   ]
  },
  {
   "cell_type": "markdown",
   "metadata": {},
   "source": [
    "## Coefficient Estimation "
   ]
  },
  {
   "cell_type": "code",
   "execution_count": 7,
   "metadata": {},
   "outputs": [],
   "source": [
    "data_count = 50 \n",
    "\n",
    "x1 = np.random.uniform(0, 20, data_count)\n",
    "x2 = np.random.uniform(-20, 20, data_count)\n",
    "y = 2+ 5*x1 - 2*x2 + np.random.normal(0, 5, data_count)\n"
   ]
  },
  {
   "cell_type": "code",
   "execution_count": 8,
   "metadata": {},
   "outputs": [],
   "source": [
    "mlr = LinearRegression()\n",
    "dataframe = pd.DataFrame({\"x1\":x1, \"x2\": x2, \"y\": y})\n",
    "\n",
    "x_train = dataframe[[\"x1\", \"x2\"]]\n",
    "y_train = dataframe[[\"y\"]]\n",
    "# mlr.fit(x_train, y_train)\n",
    "x_train = sm.add_constant(x_train)\n",
    "\n",
    "smOLSmodel = sm.OLS(y_train, x_train).fit()\n"
   ]
  },
  {
   "cell_type": "code",
   "execution_count": 61,
   "metadata": {},
   "outputs": [
    {
     "data": {
      "text/plain": [
       "<matplotlib.collections.PathCollection at 0x7ff93b3f0e48>"
      ]
     },
     "execution_count": 61,
     "metadata": {},
     "output_type": "execute_result"
    },
    {
     "data": {
      "image/png": "[encoded data removed]",
      "text/plain": [
       "<Figure size 432x288 with 1 Axes>"
      ]
     },
     "metadata": {
      "needs_background": "light"
     },
     "output_type": "display_data"
    }
   ],
   "source": [
    "fitted_value = smOLSmodel.predict(x_train)\n",
    "plt.scatter(fitted_value, y_train)"
   ]
  },
  {
   "cell_type": "code",
   "execution_count": 62,
   "metadata": {},
   "outputs": [
    {
     "name": "stdout",
     "output_type": "stream",
     "text": [
      "                            OLS Regression Results                            \n",
      "==============================================================================\n",
      "Dep. Variable:                      y   R-squared:                       0.976\n",
      "Model:                            OLS   Adj. R-squared:                  0.975\n",
      "Method:                 Least Squares   F-statistic:                     960.3\n",
      "Date:                Tue, 28 Jul 2020   Prob (F-statistic):           7.71e-39\n",
      "Time:                        23:05:02   Log-Likelihood:                -147.32\n",
      "No. Observations:                  50   AIC:                             300.6\n",
      "Df Residuals:                      47   BIC:                             306.4\n",
      "Df Model:                           2                                         \n",
      "Covariance Type:            nonrobust                                         \n",
      "==============================================================================\n",
      "                 coef    std err          t      P>|t|      [0.025      0.975]\n",
      "------------------------------------------------------------------------------\n",
      "const          1.2368      1.518      0.815      0.419      -1.818       4.291\n",
      "x1             5.0189      0.133     37.674      0.000       4.751       5.287\n",
      "x2            -2.0370      0.066    -31.056      0.000      -2.169      -1.905\n",
      "==============================================================================\n",
      "Omnibus:                        5.844   Durbin-Watson:                   1.926\n",
      "Prob(Omnibus):                  0.054   Jarque-Bera (JB):                4.706\n",
      "Skew:                           0.647   Prob(JB):                       0.0951\n",
      "Kurtosis:                       3.763   Cond. No.                         25.7\n",
      "==============================================================================\n",
      "\n",
      "Warnings:\n",
      "[1] Standard Errors assume that the covariance matrix of the errors is correctly specified.\n"
     ]
    }
   ],
   "source": [
    "print(smOLSmodel.summary())"
   ]
  },
  {
   "cell_type": "markdown",
   "metadata": {},
   "source": [
    "### bootstrap 으로 회귀계수 구하기 "
   ]
  },
  {
   "cell_type": "code",
   "execution_count": 63,
   "metadata": {},
   "outputs": [
    {
     "name": "stdout",
     "output_type": "stream",
     "text": [
      "const    1.236843\n",
      "x1       5.018907\n",
      "x2      -2.036979\n",
      "dtype: float64\n"
     ]
    }
   ],
   "source": [
    "print(smOLSmodel.params)"
   ]
  },
  {
   "cell_type": "code",
   "execution_count": 10,
   "metadata": {},
   "outputs": [],
   "source": [
    "def bootstrapDF(df, nboot):\n",
    "    row_count = dataframe.shape[0]\n",
    "    constant_list = []\n",
    "    x1_list = []\n",
    "    x2_list = []\n",
    "    for nrounds in range(nboot):\n",
    "        if nrounds%1000 ==0:\n",
    "            print(\"nrounds: \", nrounds)\n",
    "        idx = np.ravel(np.random.randint(row_count, size = row_count))\n",
    "        temp_df = dataframe.iloc[idx]\n",
    "        x_train = temp_df[[\"x1\",  \"x2\"]]\n",
    "        y_train = temp_df[[\"y\"]]\n",
    "        x_train = sm.add_constant(x_train)\n",
    "        smOLSmodel = sm.OLS(y_train, x_train).fit()\n",
    "        coefs = smOLSmodel.params\n",
    "        constant_list.append(coefs[0])\n",
    "        x1_list.append(coefs[1])\n",
    "        x2_list.append(coefs[2])\n",
    "    return constant_list, x1_list, x2_list    \n",
    "        \n",
    "    "
   ]
  },
  {
   "cell_type": "code",
   "execution_count": 11,
   "metadata": {},
   "outputs": [
    {
     "name": "stdout",
     "output_type": "stream",
     "text": [
      "nrounds:  0\n",
      "nrounds:  1000\n",
      "nrounds:  2000\n",
      "nrounds:  3000\n",
      "nrounds:  4000\n"
     ]
    }
   ],
   "source": [
    "const, x1, x2 = bootstrapDF(dataframe, 5000)"
   ]
  },
  {
   "cell_type": "code",
   "execution_count": 16,
   "metadata": {},
   "outputs": [
    {
     "name": "stdout",
     "output_type": "stream",
     "text": [
      "\n",
      "=======const estimation=====\n",
      "\n",
      "2.0943618601106175\n",
      "1.4278319141808975\n",
      "\n",
      "=======x1 estimation=====\n",
      "\n",
      "5.039985350575786\n",
      "0.11266699107316792\n",
      "\n",
      "=======x2 estimation=====\n",
      "\n",
      "-2.067339402089532\n",
      "0.05525747357365559\n"
     ]
    }
   ],
   "source": [
    "from scipy import stats\n",
    "\n",
    "print(\"\\n=======const estimation=====\\n\")\n",
    "print(np.mean(const))\n",
    "print(np.std(const))\n",
    "print(\"\\n=======x1 estimation=====\\n\")\n",
    "print(np.mean(x1))\n",
    "print(np.std(x1))\n",
    "print(\"\\n=======x2 estimation=====\\n\")\n",
    "print(np.mean(x2))\n",
    "print(np.std(x2))\n"
   ]
  },
  {
   "cell_type": "code",
   "execution_count": null,
   "metadata": {},
   "outputs": [],
   "source": []
  }
 ],
 "metadata": {
  "kernelspec": {
   "display_name": "Python 3",
   "language": "python",
   "name": "python3"
  },
  "language_info": {
   "codemirror_mode": {
    "name": "ipython",
    "version": 3
   },
   "file_extension": ".py",
   "mimetype": "text/x-python",
   "name": "python",
   "nbconvert_exporter": "python",
   "pygments_lexer": "ipython3",
   "version": "3.6.9"
  }
 },
 "nbformat": 4,
 "nbformat_minor": 4
}
