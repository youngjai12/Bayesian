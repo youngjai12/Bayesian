{
 "cells": [
  {
   "cell_type": "code",
   "execution_count": 1,
   "metadata": {},
   "outputs": [],
   "source": [
    "from __future__ import print_function, division\n",
    "from builtins import range\n",
    "# Note: you may need to update your version of future\n",
    "# sudo pip install -U future\n",
    "\n",
    "import numpy as np\n",
    "import tensorflow as tf\n",
    "import matplotlib.pyplot as plt\n",
    "import pandas as pd\n",
    "from tqdm import tqdm\n",
    "from sklearn.utils import shuffle"
   ]
  },
  {
   "cell_type": "markdown",
   "metadata": {},
   "source": [
    "stochasitc_tensor가 필요한 이유는 vae 에서는 값이 아니라, encoding layer의 결과로,\n",
    "distribution이 나온다. 그렇기 때문에, 해당 분포에서 sample 을 draw하여, 이를 tensor에 \n",
    "태워야 하기 때문에 필요하다. \n",
    "\n"
   ]
  },
  {
   "cell_type": "code",
   "execution_count": 32,
   "metadata": {},
   "outputs": [],
   "source": [
    "try:\n",
    "    st = tf.contrib.bayesflow.stochastic_tensor\n",
    "except:\n",
    "  # doesn't exist in later versions of TF\n",
    "  # we will use the reparameterization trick instead\n",
    "  # watch the later lecture on the reparameterization trick\n",
    "  # to learn about it.\n",
    "  pass\n",
    "Normal = tf.contrib.distributions.Normal\n",
    "Bernoulli = tf.contrib.distributions.Bernoulli"
   ]
  },
  {
   "cell_type": "code",
   "execution_count": 33,
   "metadata": {},
   "outputs": [
    {
     "name": "stdout",
     "output_type": "stream",
     "text": [
      "None\n"
     ]
    }
   ],
   "source": [
    "print(st)"
   ]
  },
  {
   "cell_type": "code",
   "execution_count": 4,
   "metadata": {},
   "outputs": [
    {
     "data": {
      "text/plain": [
       "[1, 2, 3, 4]"
      ]
     },
     "execution_count": 4,
     "metadata": {},
     "output_type": "execute_result"
    }
   ],
   "source": [
    "d = [1,2,3,4,5]\n",
    "d[:-1]"
   ]
  },
  {
   "cell_type": "code",
   "execution_count": 8,
   "metadata": {},
   "outputs": [
    {
     "data": {
      "text/plain": [
       "<tf.Tensor 'Placeholder_3:0' shape=(?, 784) dtype=float32>"
      ]
     },
     "execution_count": 8,
     "metadata": {},
     "output_type": "execute_result"
    }
   ],
   "source": [
    "xx"
   ]
  },
  {
   "cell_type": "code",
   "execution_count": 34,
   "metadata": {},
   "outputs": [],
   "source": [
    "# Layer 를 build 할 때, 기본적으로 activation function은 relu function 이다  \n",
    "class DenseLayer(object):\n",
    "    def __init__(self, M1, M2, f = tf.nn.relu):\n",
    "        self.weight = tf.Variable(tf.random_normal(shape=(M1, M2))*2 / np.sqrt(M1))\n",
    "        self.bias = tf.Variable(np.zeros(M2).astype(np.float32))\n",
    "        self.forwardFunction = f\n",
    "    \n",
    "    # forward operation :  Wx+b인 값을 forward function에 통과시키는 것.\n",
    "    def forward(self, X):\n",
    "        return self.forwardFunction(tf.matmul(X, self.weight) + self.bias)\n",
    "\n",
    "    \n",
    "\n",
    "st = None    \n",
    "class VariationalAutoencoder:\n",
    "    ## input 의 차원\n",
    "    ## hidden_layer_size 는 이것의 output 이 layerZ 의 final size가 되고, 이것은 decoder input의 size 가 된다. \n",
    "    def __init__(self, dimension, hidden_layer_sizes):\n",
    "        \n",
    "        self.X = tf.placeholder(tf.float32, shape=(None,dimension))\n",
    "        \n",
    "        self.encoder_layers = []\n",
    "        M_in = dimension\n",
    "        \n",
    "        ## encoder 의 layer를 구성할 때, 마지막 layer는 빼고, 알아서 구성하였다. \n",
    "        # 그런데, encoder layer의 마지막은 softplus activation function을 쓰고 싶어서\n",
    "        # [:-1] 해줌.\n",
    "        for M_out in hidden_layer_sizes[:-1]:\n",
    "            hiddenLayer = DenseLayer(M_in, M_out)\n",
    "            self.encoder_layers.append(hiddenLayer)\n",
    "            M_in = M_out\n",
    "         \n",
    "        \n",
    "        # hidden layer의 마지막 size (activation function처리를 다르게하기 위해)\n",
    "        M = hidden_layer_sizes[-1]\n",
    "        \n",
    "        ## 일단, encoder의 output은 mean, stddev를 return 한다. \n",
    "        ## mean은 activation 통과할 필요없고, stddev는 softplus 인 activation function을 \n",
    "        ## 통과해야 한다. 그래서 따로 layer를 정의한다. \n",
    "        # 따라서 2차원 gaussian으로 진행해야 하므로, output size가 2*m 이다.\n",
    "        h = DenseLayer(M_in, 2*M, f=lambda x: x)\n",
    "        self.encoder_layers.append(h)\n",
    "        \n",
    "        ## encoding layer의 output을 기록한다. \n",
    "        current_layer_value = self.X\n",
    "        for layer in self.encoder_layers:\n",
    "            current_layer_value = layer.forward(current_layer_value)\n",
    "        \n",
    "        # encoding layer의 output을 seperate 해서, stddev 부분은 softplus를 적용한다.\n",
    "        self.means = current_layer_value[:, :M]\n",
    "        self.stddev = tf.nn.softplus(current_layer_value[:, M:]) + 1e-6\n",
    "        \n",
    "        ## sampling을 수행하기 앞서, \n",
    "        if st is None:\n",
    "            standard_normal = Normal(\n",
    "                loc=np.zeros(M, dtype=np.float32),\n",
    "                scale = np.ones(M, dtype=np.float32)    \n",
    "            )\n",
    "        \n",
    "            ## 여기서는 stdNormal 즉, N(0,1) 에서 얻어낸 값을 적당히 곱하고 더해서, \n",
    "            ## N(mean,stddev) 에서 추출한 것과 같이 되도록 조정해준다. \n",
    "            ## 이것이 encoder의 output 분포에서 추출한 분포이다. \n",
    "            e = standard_normal.sample(tf.shape(self.means)[0])\n",
    "        \n",
    "            ## 마지막 hiddenLayerSize * (latenSpace 수) 만큼의 sample 추출. \n",
    "            self.Z = e*self.stddev + self.means\n",
    "        else:\n",
    "             with st.value_type(st.SampleValue()):\n",
    "                self.Z = st.StochasticTensor(Normal(loc=self.means, scale=self.stddev))\n",
    "        \n",
    "        \n",
    "        self.decoder_layers=[]\n",
    "        M_in = M\n",
    "        \n",
    "        ## encoder layer와는 반대로 진행한다. \n",
    "        for M_out in reversed(hidden_layer_sizes[: -1]):\n",
    "            ## babakc\n",
    "            self.decoder_layers.append( DenseLayer(M_in, M_out))\n",
    "            M_in = M_out \n",
    "        \n",
    "        #  마지막 hidden layer는 activation function을 안준다.(그냥y=x)\n",
    "        # \n",
    "        h = DenseLayer(M_in, dimension, f=lambda x: x)\n",
    "        self.decoder_layers.append(h)\n",
    "        \n",
    "        # get posterior_predictive_logits\n",
    "        current_layer_value = self.Z\n",
    "        for layer in self.decoder_layers:\n",
    "            current_layer_value = layer.forward(current_layer_value)\n",
    "        posterior_predictive_logits = current_layer_value\n",
    "        \n",
    "        ## get the output\n",
    "        self.X_hat_distribution = Bernoulli(logits=posterior_predictive_logits)\n",
    "        self.posterior_predictive = self.X_hat_distribution.sample()\n",
    "        self.posterior_predictive_probs = tf.nn.sigmoid(posterior_predictive_logits)\n",
    "        \n",
    "        if st is None:\n",
    "            kl = -tf.log(self.stddev) + 0.5*(self.stddev**2 + self.means**2) - 0.5\n",
    "            kl = tf.reduce_sum(kl,axis=1)\n",
    "        else:\n",
    "            kl = tf.reduce_sum(\n",
    "                tf.contrib.distributions.kl_divergence(\n",
    "                    self.Z.distribution, standard_normal\n",
    "                ),\n",
    "                1\n",
    "            )\n",
    "            \n",
    "        expected_log_likelihood = tf.reduce_sum(self.X_hat_distribution.log_prob(self.X),1)\n",
    "        \n",
    "        self.elbo = tf.reduce_sum(expected_log_likelihood - kl)\n",
    "        self.train_op = tf.train.RMSPropOptimizer(learning_rate=0.001).minimize(-self.elbo)\n",
    "        \n",
    "        self.init_op = tf.global_variables_initializer()\n",
    "        self.sess = tf.InteractiveSession()\n",
    "        self.sess.run(self.init_op)\n",
    "    \n",
    "    def fit(self, X, epochs=30, batch_size=64):\n",
    "        costs = []\n",
    "        n_batches = len(X) // batch_size\n",
    "        print(\"N-batchs : \", n_batches)\n",
    "        for i in range(epochs):\n",
    "            print(\"epoch: \",i)\n",
    "            np.random.shuffle(X)\n",
    "            for j in range(n_batches):\n",
    "                batch = X[j*batch_size:(j+1)*batch_size]\n",
    "                _, c, = self.sess.run((self.train_op, self.elbo), feed_dict={self.X: batch})\n",
    "                c /= batch_size\n",
    "                costs.append(c)\n",
    "                if j%100 == 0:\n",
    "                    print(\"iter: %d, cost : %.3f\" %(j,c))\n",
    "        \n",
    "        plt.plot(costs)\n",
    "        plt.show()\n",
    "       \n",
    "   \n",
    "    def transform(self,X):\n",
    "        return self.sess.run(\n",
    "        self.means, feed_dict={self.X:X}\n",
    "        )\n",
    "    \n",
    "    def posterior_predictive_sample(self, X):\n",
    "        return self.sess.run(self.posterior_predictive, feed_dict={self.X: X})\n",
    "    \n",
    "    \n",
    "                    \n",
    "                                "
   ]
  },
  {
   "cell_type": "code",
   "execution_count": 8,
   "metadata": {},
   "outputs": [],
   "source": [
    "\n",
    "\n",
    "def get_mnist_from_csv(limit=None):\n",
    "    df = pd.read_csv('../data/train.csv')\n",
    "    data = df.values\n",
    "  # np.random.shuffle(data)\n",
    "    X = data[:, 1:] / 255.0 # data is from 0..255\n",
    "    Y = data[:, 0]\n",
    "    X, Y = shuffle(X, Y)\n",
    "    if limit is not None:\n",
    "        X, Y = X[:limit], Y[:limit]\n",
    "    return X, Y\n",
    "\n",
    "\n",
    "X, Y = get_mnist_from_csv()\n",
    "  # convert X to binary variable\n",
    "X = (X > 0.5).astype(np.float32)"
   ]
  },
  {
   "cell_type": "code",
   "execution_count": 35,
   "metadata": {
    "scrolled": false
   },
   "outputs": [
    {
     "name": "stdout",
     "output_type": "stream",
     "text": [
      "WARNING:tensorflow:From /home/youngjai/pythonVenv/tensorflow1/lib/python3.6/site-packages/tensorflow_core/python/ops/nn_impl.py:183: where (from tensorflow.python.ops.array_ops) is deprecated and will be removed in a future version.\n",
      "Instructions for updating:\n",
      "Use tf.where in 2.0, which has the same broadcast rule as np.where\n",
      "WARNING:tensorflow:From /home/youngjai/pythonVenv/tensorflow1/lib/python3.6/site-packages/tensorflow_core/python/training/rmsprop.py:119: calling Ones.__init__ (from tensorflow.python.ops.init_ops) with dtype is deprecated and will be removed in a future version.\n",
      "Instructions for updating:\n",
      "Call initializer instance with the dtype argument instead of passing it to the constructor\n",
      "N-batchs :  656\n",
      "epoch:  0\n",
      "iter: 0, cost : -1342.977\n",
      "iter: 100, cost : -232.993\n",
      "iter: 200, cost : -198.820\n",
      "iter: 300, cost : -192.272\n",
      "iter: 400, cost : -164.958\n",
      "iter: 500, cost : -162.447\n",
      "iter: 600, cost : -163.899\n",
      "epoch:  1\n",
      "iter: 0, cost : -152.373\n",
      "iter: 100, cost : -136.988\n",
      "iter: 200, cost : -142.850\n",
      "iter: 300, cost : -139.916\n",
      "iter: 400, cost : -134.666\n",
      "iter: 500, cost : -139.563\n",
      "iter: 600, cost : -127.478\n",
      "epoch:  2\n",
      "iter: 0, cost : -140.025\n",
      "iter: 100, cost : -136.613\n",
      "iter: 200, cost : -127.211\n",
      "iter: 300, cost : -131.685\n",
      "iter: 400, cost : -131.968\n",
      "iter: 500, cost : -118.024\n",
      "iter: 600, cost : -120.200\n",
      "epoch:  3\n",
      "iter: 0, cost : -127.200\n",
      "iter: 100, cost : -127.131\n",
      "iter: 200, cost : -123.997\n",
      "iter: 300, cost : -110.061\n",
      "iter: 400, cost : -122.612\n",
      "iter: 500, cost : -119.038\n",
      "iter: 600, cost : -118.242\n",
      "epoch:  4\n",
      "iter: 0, cost : -117.833\n",
      "iter: 100, cost : -113.350\n",
      "iter: 200, cost : -107.812\n",
      "iter: 300, cost : -117.714\n",
      "iter: 400, cost : -106.172\n",
      "iter: 500, cost : -117.591\n",
      "iter: 600, cost : -107.741\n",
      "epoch:  5\n",
      "iter: 0, cost : -109.590\n",
      "iter: 100, cost : -109.284\n",
      "iter: 200, cost : -109.895\n",
      "iter: 300, cost : -103.725\n",
      "iter: 400, cost : -106.745\n",
      "iter: 500, cost : -111.782\n",
      "iter: 600, cost : -108.488\n",
      "epoch:  6\n",
      "iter: 0, cost : -105.089\n",
      "iter: 100, cost : -104.211\n",
      "iter: 200, cost : -107.821\n",
      "iter: 300, cost : -104.768\n",
      "iter: 400, cost : -111.832\n",
      "iter: 500, cost : -107.504\n",
      "iter: 600, cost : -105.531\n",
      "epoch:  7\n",
      "iter: 0, cost : -101.267\n",
      "iter: 100, cost : -109.329\n",
      "iter: 200, cost : -97.020\n",
      "iter: 300, cost : -98.036\n",
      "iter: 400, cost : -101.951\n",
      "iter: 500, cost : -107.104\n",
      "iter: 600, cost : -108.491\n",
      "epoch:  8\n",
      "iter: 0, cost : -105.070\n",
      "iter: 100, cost : -100.904\n",
      "iter: 200, cost : -107.503\n",
      "iter: 300, cost : -101.219\n",
      "iter: 400, cost : -102.174\n",
      "iter: 500, cost : -100.913\n",
      "iter: 600, cost : -100.362\n",
      "epoch:  9\n",
      "iter: 0, cost : -99.451\n",
      "iter: 100, cost : -97.612\n",
      "iter: 200, cost : -102.828\n",
      "iter: 300, cost : -103.761\n",
      "iter: 400, cost : -99.229\n",
      "iter: 500, cost : -90.155\n",
      "iter: 600, cost : -94.081\n",
      "epoch:  10\n",
      "iter: 0, cost : -104.167\n",
      "iter: 100, cost : -95.914\n",
      "iter: 200, cost : -96.222\n",
      "iter: 300, cost : -94.662\n",
      "iter: 400, cost : -89.248\n",
      "iter: 500, cost : -99.964\n",
      "iter: 600, cost : -99.805\n",
      "epoch:  11\n",
      "iter: 0, cost : -97.688\n",
      "iter: 100, cost : -96.009\n",
      "iter: 200, cost : -99.594\n",
      "iter: 300, cost : -90.193\n",
      "iter: 400, cost : -93.321\n",
      "iter: 500, cost : -99.292\n",
      "iter: 600, cost : -102.412\n",
      "epoch:  12\n",
      "iter: 0, cost : -99.810\n",
      "iter: 100, cost : -99.507\n",
      "iter: 200, cost : -103.600\n",
      "iter: 300, cost : -96.276\n",
      "iter: 400, cost : -96.550\n",
      "iter: 500, cost : -90.071\n",
      "iter: 600, cost : -97.793\n",
      "epoch:  13\n",
      "iter: 0, cost : -93.348\n",
      "iter: 100, cost : -88.711\n",
      "iter: 200, cost : -93.580\n",
      "iter: 300, cost : -96.768\n",
      "iter: 400, cost : -91.053\n",
      "iter: 500, cost : -94.360\n",
      "iter: 600, cost : -98.407\n",
      "epoch:  14\n",
      "iter: 0, cost : -98.108\n",
      "iter: 100, cost : -98.518\n",
      "iter: 200, cost : -92.184\n",
      "iter: 300, cost : -88.222\n",
      "iter: 400, cost : -92.743\n",
      "iter: 500, cost : -90.271\n",
      "iter: 600, cost : -93.044\n",
      "epoch:  15\n",
      "iter: 0, cost : -91.054\n",
      "iter: 100, cost : -93.159\n",
      "iter: 200, cost : -91.825\n",
      "iter: 300, cost : -91.958\n",
      "iter: 400, cost : -88.821\n",
      "iter: 500, cost : -95.411\n",
      "iter: 600, cost : -94.314\n",
      "epoch:  16\n",
      "iter: 0, cost : -88.149\n",
      "iter: 100, cost : -96.911\n",
      "iter: 200, cost : -96.381\n",
      "iter: 300, cost : -94.073\n",
      "iter: 400, cost : -95.230\n",
      "iter: 500, cost : -87.945\n",
      "iter: 600, cost : -94.651\n",
      "epoch:  17\n",
      "iter: 0, cost : -90.558\n",
      "iter: 100, cost : -90.986\n",
      "iter: 200, cost : -93.626\n",
      "iter: 300, cost : -93.741\n",
      "iter: 400, cost : -98.308\n",
      "iter: 500, cost : -94.302\n",
      "iter: 600, cost : -96.679\n",
      "epoch:  18\n",
      "iter: 0, cost : -95.790\n",
      "iter: 100, cost : -93.005\n",
      "iter: 200, cost : -97.581\n",
      "iter: 300, cost : -89.230\n",
      "iter: 400, cost : -92.361\n",
      "iter: 500, cost : -93.453\n",
      "iter: 600, cost : -90.890\n",
      "epoch:  19\n",
      "iter: 0, cost : -92.614\n",
      "iter: 100, cost : -91.753\n",
      "iter: 200, cost : -90.167\n",
      "iter: 300, cost : -96.561\n",
      "iter: 400, cost : -95.556\n",
      "iter: 500, cost : -90.865\n",
      "iter: 600, cost : -92.816\n",
      "epoch:  20\n",
      "iter: 0, cost : -86.017\n",
      "iter: 100, cost : -91.121\n",
      "iter: 200, cost : -95.292\n",
      "iter: 300, cost : -97.494\n",
      "iter: 400, cost : -87.271\n",
      "iter: 500, cost : -90.791\n",
      "iter: 600, cost : -95.833\n",
      "epoch:  21\n",
      "iter: 0, cost : -94.596\n",
      "iter: 100, cost : -95.115\n",
      "iter: 200, cost : -94.625\n",
      "iter: 300, cost : -90.760\n",
      "iter: 400, cost : -92.843\n",
      "iter: 500, cost : -92.864\n",
      "iter: 600, cost : -88.810\n",
      "epoch:  22\n",
      "iter: 0, cost : -91.395\n",
      "iter: 100, cost : -89.979\n",
      "iter: 200, cost : -90.828\n",
      "iter: 300, cost : -94.370\n",
      "iter: 400, cost : -92.887\n",
      "iter: 500, cost : -96.919\n",
      "iter: 600, cost : -90.589\n",
      "epoch:  23\n",
      "iter: 0, cost : -93.073\n",
      "iter: 100, cost : -95.020\n",
      "iter: 200, cost : -96.387\n",
      "iter: 300, cost : -87.698\n",
      "iter: 400, cost : -96.541\n",
      "iter: 500, cost : -93.458\n",
      "iter: 600, cost : -91.393\n",
      "epoch:  24\n",
      "iter: 0, cost : -90.727\n",
      "iter: 100, cost : -95.990\n",
      "iter: 200, cost : -89.392\n",
      "iter: 300, cost : -94.749\n",
      "iter: 400, cost : -85.860\n",
      "iter: 500, cost : -91.965\n",
      "iter: 600, cost : -92.239\n",
      "epoch:  25\n",
      "iter: 0, cost : -89.866\n",
      "iter: 100, cost : -91.729\n",
      "iter: 200, cost : -91.394\n",
      "iter: 300, cost : -94.394\n",
      "iter: 400, cost : -92.010\n",
      "iter: 500, cost : -92.357\n",
      "iter: 600, cost : -93.708\n",
      "epoch:  26\n",
      "iter: 0, cost : -88.268\n",
      "iter: 100, cost : -94.562\n",
      "iter: 200, cost : -84.698\n",
      "iter: 300, cost : -98.693\n",
      "iter: 400, cost : -96.146\n",
      "iter: 500, cost : -92.962\n",
      "iter: 600, cost : -95.143\n",
      "epoch:  27\n",
      "iter: 0, cost : -95.239\n",
      "iter: 100, cost : -88.360\n",
      "iter: 200, cost : -97.642\n",
      "iter: 300, cost : -86.411\n",
      "iter: 400, cost : -95.623\n",
      "iter: 500, cost : -90.384\n",
      "iter: 600, cost : -93.238\n",
      "epoch:  28\n",
      "iter: 0, cost : -91.059\n",
      "iter: 100, cost : -89.458\n",
      "iter: 200, cost : -86.787\n",
      "iter: 300, cost : -98.020\n",
      "iter: 400, cost : -89.887\n",
      "iter: 500, cost : -91.979\n",
      "iter: 600, cost : -87.084\n",
      "epoch:  29\n",
      "iter: 0, cost : -89.797\n",
      "iter: 100, cost : -89.212\n",
      "iter: 200, cost : -89.799\n",
      "iter: 300, cost : -92.337\n",
      "iter: 400, cost : -89.453\n",
      "iter: 500, cost : -88.440\n",
      "iter: 600, cost : -93.341\n"
     ]
    },
    {
     "data": {
      "image/png": "[encoded data removed]",
      "text/plain": [
       "<Figure size 432x288 with 1 Axes>"
      ]
     },
     "metadata": {
      "needs_background": "light"
     },
     "output_type": "display_data"
    }
   ],
   "source": [
    "vae = VariationalAutoencoder(784, [200, 100])\n",
    "vae.fit(X)\n"
   ]
  },
  {
   "cell_type": "code",
   "execution_count": 36,
   "metadata": {},
   "outputs": [
    {
     "data": {
      "image/png": "[encoded data removed]",
      "text/plain": [
       "<Figure size 432x288 with 2 Axes>"
      ]
     },
     "metadata": {
      "needs_background": "light"
     },
     "output_type": "display_data"
    },
    {
     "name": "stdout",
     "output_type": "stream",
     "text": [
      "Generate another?y\n"
     ]
    },
    {
     "data": {
      "image/png": "[encoded data removed]",
      "text/plain": [
       "<Figure size 432x288 with 2 Axes>"
      ]
     },
     "metadata": {
      "needs_background": "light"
     },
     "output_type": "display_data"
    },
    {
     "name": "stdout",
     "output_type": "stream",
     "text": [
      "Generate another?d\n"
     ]
    },
    {
     "data": {
      "image/png": "[encoded data removed]",
      "text/plain": [
       "<Figure size 432x288 with 2 Axes>"
      ]
     },
     "metadata": {
      "needs_background": "light"
     },
     "output_type": "display_data"
    },
    {
     "name": "stdout",
     "output_type": "stream",
     "text": [
      "Generate another?23\n"
     ]
    },
    {
     "data": {
      "image/png": "[encoded data removed]",
      "text/plain": [
       "<Figure size 432x288 with 2 Axes>"
      ]
     },
     "metadata": {
      "needs_background": "light"
     },
     "output_type": "display_data"
    },
    {
     "name": "stdout",
     "output_type": "stream",
     "text": [
      "Generate another?3\n"
     ]
    },
    {
     "data": {
      "image/png": "[encoded data removed]",
      "text/plain": [
       "<Figure size 432x288 with 2 Axes>"
      ]
     },
     "metadata": {
      "needs_background": "light"
     },
     "output_type": "display_data"
    },
    {
     "name": "stdout",
     "output_type": "stream",
     "text": [
      "Generate another?n\n"
     ]
    }
   ],
   "source": [
    "done = False\n",
    "while not done:\n",
    "    i = np.random.choice(len(X))\n",
    "    x = X[i]\n",
    "    im = vae.posterior_predictive_sample([x]).reshape(28, 28)\n",
    "    plt.subplot(1,2,1)\n",
    "    plt.imshow(x.reshape(28, 28), cmap='gray')\n",
    "    plt.title(\"Original\")\n",
    "    plt.subplot(1,2,2)\n",
    "    plt.imshow(im, cmap='gray')\n",
    "    plt.title(\"Sampled\")\n",
    "    plt.show()\n",
    "\n",
    "    ans = input(\"Generate another?\")\n",
    "    if ans and ans[0] in ('n' or 'N'):\n",
    "        done = True"
   ]
  },
  {
   "cell_type": "code",
   "execution_count": 2,
   "metadata": {},
   "outputs": [
    {
     "name": "stdout",
     "output_type": "stream",
     "text": [
      "Tensor(\"strided_slice_1:0\", shape=(), dtype=int32)\n",
      "WARNING:tensorflow:\n",
      "The TensorFlow contrib module will not be included in TensorFlow 2.0.\n",
      "For more information, please see:\n",
      "  * https://github.com/tensorflow/community/blob/master/rfcs/20180907-contrib-sunset.md\n",
      "  * https://github.com/tensorflow/addons\n",
      "  * https://github.com/tensorflow/io (for I/O related ops)\n",
      "If you depend on functionality not listed there, please file an issue.\n",
      "\n",
      "WARNING:tensorflow:From <ipython-input-2-d69e0f5a6f09>:8: Normal.__init__ (from tensorflow.python.ops.distributions.normal) is deprecated and will be removed after 2019-01-01.\n",
      "Instructions for updating:\n",
      "The TensorFlow Distributions library has moved to TensorFlow Probability (https://github.com/tensorflow/probability). You should update all references to use `tfp.distributions` instead of `tf.distributions`.\n",
      "WARNING:tensorflow:From /home/youngjai/pythonVenv/tensorflow1/lib/python3.6/site-packages/tensorflow_core/python/ops/distributions/normal.py:160: Distribution.__init__ (from tensorflow.python.ops.distributions.distribution) is deprecated and will be removed after 2019-01-01.\n",
      "Instructions for updating:\n",
      "The TensorFlow Distributions library has moved to TensorFlow Probability (https://github.com/tensorflow/probability). You should update all references to use `tfp.distributions` instead of `tf.distributions`.\n"
     ]
    },
    {
     "data": {
      "text/plain": [
       "<tf.Tensor 'Normal/sample/Reshape_1:0' shape=(?, 20) dtype=float32>"
      ]
     },
     "execution_count": 2,
     "metadata": {},
     "output_type": "execute_result"
    }
   ],
   "source": [
    "M=20\n",
    "xx = tf.placeholder(tf.float32, shape=(None, 100))\n",
    "print(tf.shape(xx[:,:50])[0])\n",
    "\n",
    "Normal = tf.contrib.distributions.Normal\n",
    "standard_normal = Normal(\n",
    "            loc=np.zeros(M, dtype=np.float32),\n",
    "            scale = np.ones(M, dtype=np.float32)    \n",
    "        )\n",
    "ttemp = standard_normal.sample(tf.shape(xx[:,:50])[0])\n",
    "ttemp"
   ]
  },
  {
   "cell_type": "code",
   "execution_count": 3,
   "metadata": {},
   "outputs": [
    {
     "data": {
      "text/plain": [
       "<tf.Tensor 'Normal/sample/Reshape_1:0' shape=(?, 20) dtype=float32>"
      ]
     },
     "execution_count": 3,
     "metadata": {},
     "output_type": "execute_result"
    }
   ],
   "source": [
    "ttemp"
   ]
  },
  {
   "cell_type": "code",
   "execution_count": null,
   "metadata": {},
   "outputs": [],
   "source": []
  }
 ],
 "metadata": {
  "kernelspec": {
   "display_name": "Python 3",
   "language": "python",
   "name": "python3"
  },
  "language_info": {
   "codemirror_mode": {
    "name": "ipython",
    "version": 3
   },
   "file_extension": ".py",
   "mimetype": "text/x-python",
   "name": "python",
   "nbconvert_exporter": "python",
   "pygments_lexer": "ipython3",
   "version": "3.6.9"
  }
 },
 "nbformat": 4,
 "nbformat_minor": 2
}
