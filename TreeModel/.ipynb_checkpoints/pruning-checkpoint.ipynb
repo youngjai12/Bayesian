{
 "cells": [
  {
   "cell_type": "code",
   "execution_count": 1,
   "metadata": {},
   "outputs": [],
   "source": [
    "from sklearn.datasets import load_iris\n",
    "import pandas as pd\n",
    "import numpy as np"
   ]
  },
  {
   "cell_type": "code",
   "execution_count": 2,
   "metadata": {},
   "outputs": [],
   "source": [
    "class Node:\n",
    "    def __init__(self):\n",
    "        \n",
    "        # links to the left and right child nodes\n",
    "        self.right = None\n",
    "        self.left = None\n",
    "        \n",
    "        # derived from splitting criteria\n",
    "        self.column = None\n",
    "        self.threshold = None\n",
    "        self.item_counts = 0\n",
    "        # 각 class 마다의 확률(각 속성?)\n",
    "        self.probas = None\n",
    "        # depth of the given node\n",
    "        self.depth = None\n",
    "        self.parent = None\n",
    "        # if it is the root Node or not\n",
    "        self.is_terminal = False\n",
    "        self.val_probas = []\n",
    "        \n",
    "    def printNode(self):\n",
    "        print(\"col: \",self.column, \" splitAt: \", self.threshold)"
   ]
  },
  {
   "cell_type": "code",
   "execution_count": 68,
   "metadata": {},
   "outputs": [],
   "source": [
    "import math\n",
    "class DecisionTreeClassifier2:\n",
    "    def __init__(self, max_depth = 3, min_samples_leaf = 1, min_samples_split = 2, mode = \"gini\"):\n",
    "        \n",
    "        self.max_depth = max_depth\n",
    "        self.min_samples_leaf = min_samples_leaf\n",
    "        self.min_samples_split = min_samples_split\n",
    "        self.mode = mode\n",
    "        self.classes = None\n",
    "        \n",
    "        # Decision tree itself\n",
    "        self.Tree = None\n",
    "    \n",
    "    def nodeProbas(self, y):\n",
    "        '''\n",
    "        Calculates probability of class in a given node\n",
    "        '''\n",
    "        \n",
    "        probas = []\n",
    "        \n",
    "        # for each unique label calculate the probability for it\n",
    "        for one_class in self.classes:\n",
    "            if y.shape[0] != 0:\n",
    "                proba = y[y == one_class].shape[0] / y.shape[0]\n",
    "            else:\n",
    "                proba = 0\n",
    "            probas.append(proba)\n",
    "        return np.asarray(probas)\n",
    "\n",
    "    def entropy(self, probas):\n",
    "        entropy_sum = 0\n",
    "        for prob in probas: \n",
    "            temp_entropy = -(prob+0.000001) * math.log(prob+0.000001,2)\n",
    "            entropy_sum += prob\n",
    "        return entropy_sum \n",
    "    \n",
    "    \n",
    "    def gini(self, probas):\n",
    "        '''\n",
    "        Calculates gini criterion\n",
    "        '''\n",
    "        \n",
    "        return 1 - np.sum(probas**2)\n",
    "    \n",
    "    def getImpurity_faster(self, target, mode):\n",
    "        '''\n",
    "        y가 target이다. 쪼개지고 나거나, 쪼개지기 전에 y의 분포를 보고 information을 계산하기 위함이다. \n",
    "        '''\n",
    "        \n",
    "        probas = []\n",
    "        for one_class in self.classes:\n",
    "            prob = np.where(target == one_class)[0].size / target.shape[0]\n",
    "            probas.append(prob)\n",
    "        if self.mode == \"gini\":\n",
    "            return self.gini(np.asarray(probas))\n",
    "        else:\n",
    "            \n",
    "            return self.entropy(probas)\n",
    "    \n",
    "        \n",
    "    # 1. 전체 데이터를 모두 기준점으로 분할 후 gini 계산\n",
    "    def getInfoGainForColumn(self, x_col, y, impurityBefore):\n",
    "        '''\n",
    "        xcol 은 X[:, col_idx] 한 값으로써, 중복제거 없이, 그 column만을 딱 떼어온것.\n",
    "        '''\n",
    "        bestSplitCol = None\n",
    "        bestThresh = None\n",
    "        bestInfoGain = -999\n",
    "        \n",
    "        unique_value = np.unique(np.sort(x_col))\n",
    "        for idx in range(len(unique_value)-1): \n",
    "            front = unique_value[idx]\n",
    "            back = unique_value[idx+1]\n",
    "            threshold = (front+back)/2\n",
    "            \n",
    "            y_right = y.values[np.where(x_col  > threshold)[0]]\n",
    "            y_left = y.values[np.where(x_col < threshold)[0]]\n",
    "        \n",
    "            if y_right.shape[0] == 0 or y_left.shape[0] == 0:\n",
    "                continue\n",
    "            \n",
    "            impurityRight = self.getImpurity_faster(y_right, self.mode)\n",
    "            impurityLeft = self.getImpurity_faster(y_left, self.mode)\n",
    "            \n",
    "            # calculate information gain\n",
    "            infoGain = impurityBefore\n",
    "            infoGain -= (impurityLeft * y_left.shape[0] / y.shape[0]) + (impurityRight * y_right.shape[0] / y.shape[0])\n",
    "            \n",
    "            if bestInfoGain < infoGain:\n",
    "                bestInfoGain = infoGain\n",
    "                bestThresh = threshold\n",
    "                \n",
    "        return bestInfoGain, bestThresh\n",
    "        \n",
    "    def calcBestSplit(self, X, y):\n",
    "        '''\n",
    "        X : np.asarray 를 통해서 이미 numpy array 형태로 변환된 것이다. \n",
    "        Calculates the best possible split for the concrete node of the tree\n",
    "        '''\n",
    "        class_list = [0,1,2]\n",
    "        bestSplitCol = None\n",
    "        bestThresh = None\n",
    "        bestInfoGain = -999\n",
    "        \n",
    "        # 나누기 전 현재의 데이터 분포에서 impurity 를 계산한다. \n",
    "        impurityBefore = self.getImpurity_faster(y, self.mode)\n",
    "        \n",
    "        \n",
    "        for col in range(X.shape[1]):\n",
    "            \n",
    "            # X 가 이미 np.array 아래와같이 indexing이 가능. .iloc이 아님. \n",
    "            x_col = X[:, col]  # 행은 전부다, 열은 col으로 지정한 열만. \n",
    "            infoGain, threshold = self.getInfoGainForColumn(x_col, y, impurityBefore)\n",
    "            \n",
    "            if infoGain > bestInfoGain:\n",
    "                bestSplitCol = col\n",
    "                bestThresh = threshold\n",
    "                bestInfoGain = infoGain\n",
    "                    \n",
    "        \n",
    "        # if we still didn't find the split\n",
    "        if bestInfoGain == -999:\n",
    "            return None, None, None, None, None, None\n",
    "        \n",
    "        # making the best split\n",
    "        \n",
    "        x_col = X[:, bestSplitCol]\n",
    "        x_left, x_right = X[x_col <= bestThresh, :], X[x_col > bestThresh, :]\n",
    "        y_left, y_right = y[x_col <= bestThresh], y[x_col > bestThresh]\n",
    "        \n",
    "        return bestSplitCol, bestThresh, x_left, y_left, x_right, y_right\n",
    "                \n",
    "                \n",
    "    \n",
    "    def buildDT(self, count, X, y, node):\n",
    "      \n",
    "        \n",
    "        ## 재귀에서 end 조건 \n",
    "        if len(y) ==1:\n",
    "            node.is_terminal = True\n",
    "            return \n",
    "        \n",
    "        if node.depth >= self.max_depth:\n",
    "            node.is_terminal = True\n",
    "            return\n",
    "        \n",
    "        if X.shape[0] < self.min_samples_split:\n",
    "            node.is_terminal = True\n",
    "            return\n",
    "        \n",
    "        if np.unique(y).shape[0] == 1:\n",
    "            node.is_terminal = True\n",
    "            return\n",
    "        \n",
    "        ## 여기까지 온다는 것은 재귀의 종료조건이 아니라는 소리 => 즉 다시 split 할 게 남아있다. \n",
    "        \n",
    "        # calculating current split\n",
    "        splitCol, thresh, x_left, y_left, x_right, y_right = self.calcBestSplit(X, y)\n",
    "        \n",
    "        if splitCol is None:\n",
    "            node.is_terminal = True\n",
    "            return\n",
    "            \n",
    "        if x_left.shape[0] < self.min_samples_leaf or x_right.shape[0] < self.min_samples_leaf:\n",
    "            node.is_terminal = True\n",
    "            return\n",
    "        \n",
    "        # calculate best split 을 하고 나면...해당 노드에다가 left, right 의 node 에 다시 만들어낸다. \n",
    "        # node.depth 는 현재 node 의 깊이 및 위치를 말한다. \n",
    "        \n",
    "        node.column = splitCol\n",
    "        node.threshold = thresh\n",
    "        \n",
    "        # creating left and right child nodes\n",
    "        node.left = Node()\n",
    "        node.left.depth = node.depth + 1\n",
    "        node.left.probas = self.nodeProbas(y_left)\n",
    "        node.left.parent = node\n",
    "        \n",
    "        node.right = Node()\n",
    "        node.right.parent = node\n",
    "        node.right.depth = node.depth + 1\n",
    "        node.right.probas = self.nodeProbas(y_right)\n",
    "        \n",
    "            \n",
    "        # splitting recursevely\n",
    "        self.buildDT(count+1, x_right, y_right, node.right)\n",
    "        self.buildDT(count+1, x_left, y_left, node.left)\n",
    "        \n",
    "        \n",
    "        \n",
    "        \n",
    "    \n",
    "    def fit(self, X, y):\n",
    "        '''\n",
    "        X : y만 빠진 column들이 모두 존재하는 pandas dataframe.\n",
    "        y : y 하나만 존재하는 pandas dataframe\n",
    "        '''\n",
    "        \n",
    "        if type(X) == pd.DataFrame:\n",
    "            X = np.asarray(X)\n",
    "        \n",
    "        self.classes = np.unique(y)\n",
    "        # root node creation\n",
    "        self.Tree = Node()\n",
    "        self.Tree.depth = 1\n",
    "        \n",
    "        # 현재 root node, 즉 모든 데이터에 대해서 probas 를 계산한다. \n",
    "        self.Tree.probas = self.nodeProbas(y)\n",
    "        self.Tree.parent = None\n",
    "        self.Tree.item_count,_ = X.shape\n",
    "        \n",
    "        # 그렇게 root node 를 손수 만들어준 다음, 그 root node 를 기준으로 tree를 만든다. \n",
    "        self.buildDT(0, X, y, self.Tree)\n",
    "    \n",
    "    def predictSample(self, x, node):\n",
    "        '''\n",
    "        Passes one object through decision tree and return the probability of it to belong to each class\n",
    "        '''\n",
    "       \n",
    "    \n",
    "        # if we have reached the terminal node of the tree\n",
    "        if node.is_terminal:\n",
    "            return node.probas\n",
    "        \n",
    "        if x[node.column] > node.threshold:\n",
    "            probas = self.predictSample(x, node.right)\n",
    "        else:\n",
    "            probas = self.predictSample(x, node.left)\n",
    "            \n",
    "        return probas\n",
    "        \n",
    "        \n",
    "    \n",
    "    def predict(self, X):\n",
    "        '''\n",
    "        Returns the labels for each X\n",
    "        '''\n",
    "        \n",
    "        if type(X) == pd.DataFrame:\n",
    "            X = np.asarray(X)\n",
    "            \n",
    "        predictions = []\n",
    "        for x in X:\n",
    "            pred = np.argmax(self.predictSample(x, self.Tree))\n",
    "            predictions.append(pred)\n",
    "        \n",
    "        return np.asarray(predictions)\n",
    "    \n",
    "    def printTree(self, curNode):\n",
    "        if curNode is not None:\n",
    "            curNode.printNode()\n",
    "            print(\"left:\")\n",
    "            self.printTree(curNode.left)\n",
    "            print(\"right: \")\n",
    "            self.printTree(curNode.right)\n",
    "    \n",
    "    def printFinal(self):\n",
    "        self.printTree(self.Tree)\n",
    "    \n",
    "    def validation_fit(self, val_df):\n",
    "#         if type(val_df) == pd.DataFrame:\n",
    "#             val_df = np.asarray(val_df)\n",
    "        self.val_predict(self.Tree, val_df)\n",
    "        \n",
    "        \n",
    "    def val_predict(self, node, data):\n",
    "        \n",
    "        if not node.right.is_terminal :\n",
    "            right = data[data[column_names[node.column]] > node.threshold]\n",
    "            print(\"column: \",column_names[node.column], \"threshold: \", node.threshold, \"righ count\",right.shape[0])\n",
    "            right_val_probas = self.nodeProbas(right[\"target\"])\n",
    "            node.right.val_probas = right_val_probas\n",
    "            self.val_predict(node.right, right)\n",
    "        \n",
    "        if not node.left.is_terminal:\n",
    "            left = data[data[column_names[node.column]] <= node.threshold]\n",
    "            print(\"column: \",column_names[node.column], \"threshold: \", node.threshold, \"left count\",left.shape[0])\n",
    "            left_val_probas = self.nodeProbas(left[\"target\"])\n",
    "            node.left.val_probas = left_val_probas\n",
    "            self.val_predict(node.left, left)\n",
    "    \n",
    "\n",
    "def prune(node):\n",
    "    if node.is_terminal:\n",
    "        parent = node.parent\n",
    "        cur_acc = max(node.probas)\n",
    "        parent_acc = max(parent.probas)\n",
    "        \n",
    "        if cur_acc < parent_acc:\n",
    "            parent.is_terminal = True\n",
    "    else:\n",
    "        if node.right != None:\n",
    "            prune(node.right)\n",
    "        if node.left != None:\n",
    "            prune(node.left)\n",
    "            \n",
    "            \n",
    "def post_prune(dt_model, val_data):\n",
    "    dt_model.validation_fit(val_data)\n",
    "    prune(dt_model.Tree)\n",
    "    return dt_model"
   ]
  },
  {
   "cell_type": "code",
   "execution_count": 86,
   "metadata": {},
   "outputs": [
    {
     "data": {
      "text/plain": [
       "(150, 4)"
      ]
     },
     "execution_count": 86,
     "metadata": {},
     "output_type": "execute_result"
    }
   ],
   "source": [
    "\n",
    "data = load_iris()\n",
    "rawX, rawy, column_names = data['data'], data['target'], data['feature_names']\n",
    "X = pd.DataFrame(rawX, columns = column_names)\n",
    "\n",
    "data[\"data\"].shape"
   ]
  },
  {
   "cell_type": "code",
   "execution_count": 78,
   "metadata": {},
   "outputs": [],
   "source": [
    "X, y = X.drop(columns = 'target'), X['target']\n",
    "\n",
    "from sklearn.model_selection import train_test_split\n",
    "X_train, X_val, y_train, y_val = train_test_split(X,y, random_state = 44)"
   ]
  },
  {
   "cell_type": "code",
   "execution_count": 89,
   "metadata": {},
   "outputs": [],
   "source": [
    "def bootstrap(df, nboot):\n",
    "    idx = np.random.randint(df.shape[0], size = (nboot, df.shape[0]))\n",
    "    idx_flat = np.ravel(idx)\n",
    "    \n",
    "    return df.iloc[idx_flat, :].reset_index(drop=True)\n",
    "data = load_iris()\n",
    "X, y, column_names = data['data'], data['target'], data['feature_names']\n",
    "X = pd.DataFrame(X, columns = column_names)\n",
    "X['target'] = y\n",
    "\n",
    "bootstappedDF = bootstrap(X, 100000)\n",
    "bigX, bigy = bootstappedDF.drop(columns = 'target'), bootstappedDF['target']\n",
    "\n",
    "from sklearn.model_selection import train_test_split\n",
    "X_train, X_val, y_train, y_val = train_test_split(bigX,bigy, random_state = 44)\n",
    "val_set = pd.concat([X_val, y_val], axis=1)"
   ]
  },
  {
   "cell_type": "code",
   "execution_count": 39,
   "metadata": {},
   "outputs": [
    {
     "data": {
      "text/plain": [
       "'petal width (cm)'"
      ]
     },
     "execution_count": 39,
     "metadata": {},
     "output_type": "execute_result"
    }
   ],
   "source": [
    "column_names[3]"
   ]
  },
  {
   "cell_type": "code",
   "execution_count": 96,
   "metadata": {},
   "outputs": [],
   "source": [
    "model = DecisionTreeClassifier2(max_depth = 8, min_samples_leaf=1, min_samples_split=2, mode = \"gini\")\n",
    "model.fit(X_train, y_train)"
   ]
  },
  {
   "cell_type": "code",
   "execution_count": 93,
   "metadata": {},
   "outputs": [
    {
     "name": "stdout",
     "output_type": "stream",
     "text": [
      "column:  petal length (cm) threshold:  2.45 righ count 2499977\n",
      "column:  petal width (cm) threshold:  1.75 righ count 1149418\n",
      "column:  petal length (cm) threshold:  4.85 left count 74940\n",
      "column:  petal width (cm) threshold:  1.75 left count 1350559\n",
      "column:  petal length (cm) threshold:  4.95 righ count 150984\n",
      "column:  petal width (cm) threshold:  1.55 righ count 75249\n",
      "column:  petal length (cm) threshold:  4.95 left count 1199575\n"
     ]
    }
   ],
   "source": [
    "pruned_tree = post_prune(model, val_set)"
   ]
  },
  {
   "cell_type": "code",
   "execution_count": 94,
   "metadata": {},
   "outputs": [
    {
     "data": {
      "text/plain": [
       "array([[1250023,       0,       0],\n",
       "       [      0, 1249960,       0],\n",
       "       [      0,       0, 1250017]])"
      ]
     },
     "execution_count": 94,
     "metadata": {},
     "output_type": "execute_result"
    }
   ],
   "source": [
    "from sklearn.metrics import classification_report, confusion_matrix\n",
    "\n",
    "dt_prediction = pruned_tree.predict(X_val)\n",
    "\n",
    "confusion_matrix(y_val, dt_prediction)"
   ]
  },
  {
   "cell_type": "code",
   "execution_count": 98,
   "metadata": {},
   "outputs": [
    {
     "name": "stdout",
     "output_type": "stream",
     "text": [
      "CPU times: user 10.7 s, sys: 420 ms, total: 11.1 s\n",
      "Wall time: 9.82 s\n"
     ]
    }
   ],
   "source": [
    "%%time\n",
    "dt_prediction = pruned_tree.predict(X_val)"
   ]
  },
  {
   "cell_type": "code",
   "execution_count": 97,
   "metadata": {},
   "outputs": [
    {
     "name": "stdout",
     "output_type": "stream",
     "text": [
      "CPU times: user 8.96 s, sys: 23.4 ms, total: 8.98 s\n",
      "Wall time: 8.98 s\n"
     ]
    }
   ],
   "source": [
    "%%time\n",
    "bef_prune = model.predict(X_val)"
   ]
  },
  {
   "cell_type": "code",
   "execution_count": 92,
   "metadata": {},
   "outputs": [
    {
     "data": {
      "text/plain": [
       "array([[1250023,       0,       0],\n",
       "       [      0, 1249960,       0],\n",
       "       [      0,       0, 1250017]])"
      ]
     },
     "execution_count": 92,
     "metadata": {},
     "output_type": "execute_result"
    }
   ],
   "source": [
    "bef_prune = model.predict(X_val)\n",
    "confusion_matrix(y_val, bef_prune)"
   ]
  },
  {
   "cell_type": "code",
   "execution_count": 30,
   "metadata": {},
   "outputs": [
    {
     "data": {
      "text/html": [
       "<div>\n",
       "<style scoped>\n",
       "    .dataframe tbody tr th:only-of-type {\n",
       "        vertical-align: middle;\n",
       "    }\n",
       "\n",
       "    .dataframe tbody tr th {\n",
       "        vertical-align: top;\n",
       "    }\n",
       "\n",
       "    .dataframe thead th {\n",
       "        text-align: right;\n",
       "    }\n",
       "</style>\n",
       "<table border=\"1\" class=\"dataframe\">\n",
       "  <thead>\n",
       "    <tr style=\"text-align: right;\">\n",
       "      <th></th>\n",
       "      <th>sepal length (cm)</th>\n",
       "      <th>sepal width (cm)</th>\n",
       "      <th>petal length (cm)</th>\n",
       "      <th>petal width (cm)</th>\n",
       "      <th>target</th>\n",
       "    </tr>\n",
       "  </thead>\n",
       "  <tbody>\n",
       "    <tr>\n",
       "      <th>9</th>\n",
       "      <td>4.9</td>\n",
       "      <td>3.1</td>\n",
       "      <td>1.5</td>\n",
       "      <td>0.1</td>\n",
       "      <td>0</td>\n",
       "    </tr>\n",
       "    <tr>\n",
       "      <th>47</th>\n",
       "      <td>4.6</td>\n",
       "      <td>3.2</td>\n",
       "      <td>1.4</td>\n",
       "      <td>0.2</td>\n",
       "      <td>0</td>\n",
       "    </tr>\n",
       "    <tr>\n",
       "      <th>3</th>\n",
       "      <td>4.6</td>\n",
       "      <td>3.1</td>\n",
       "      <td>1.5</td>\n",
       "      <td>0.2</td>\n",
       "      <td>0</td>\n",
       "    </tr>\n",
       "    <tr>\n",
       "      <th>106</th>\n",
       "      <td>4.9</td>\n",
       "      <td>2.5</td>\n",
       "      <td>4.5</td>\n",
       "      <td>1.7</td>\n",
       "      <td>2</td>\n",
       "    </tr>\n",
       "    <tr>\n",
       "      <th>41</th>\n",
       "      <td>4.5</td>\n",
       "      <td>2.3</td>\n",
       "      <td>1.3</td>\n",
       "      <td>0.3</td>\n",
       "      <td>0</td>\n",
       "    </tr>\n",
       "    <tr>\n",
       "      <th>7</th>\n",
       "      <td>5.0</td>\n",
       "      <td>3.4</td>\n",
       "      <td>1.5</td>\n",
       "      <td>0.2</td>\n",
       "      <td>0</td>\n",
       "    </tr>\n",
       "    <tr>\n",
       "      <th>37</th>\n",
       "      <td>4.9</td>\n",
       "      <td>3.6</td>\n",
       "      <td>1.4</td>\n",
       "      <td>0.1</td>\n",
       "      <td>0</td>\n",
       "    </tr>\n",
       "  </tbody>\n",
       "</table>\n",
       "</div>"
      ],
      "text/plain": [
       "     sepal length (cm)  sepal width (cm)  petal length (cm)  petal width (cm)  \\\n",
       "9                  4.9               3.1                1.5               0.1   \n",
       "47                 4.6               3.2                1.4               0.2   \n",
       "3                  4.6               3.1                1.5               0.2   \n",
       "106                4.9               2.5                4.5               1.7   \n",
       "41                 4.5               2.3                1.3               0.3   \n",
       "7                  5.0               3.4                1.5               0.2   \n",
       "37                 4.9               3.6                1.4               0.1   \n",
       "\n",
       "     target  \n",
       "9         0  \n",
       "47        0  \n",
       "3         0  \n",
       "106       2  \n",
       "41        0  \n",
       "7         0  \n",
       "37        0  "
      ]
     },
     "execution_count": 30,
     "metadata": {},
     "output_type": "execute_result"
    }
   ],
   "source": [
    "val_set[val_set[\"sepal length (cm)\"] <= 5]"
   ]
  },
  {
   "cell_type": "code",
   "execution_count": 46,
   "metadata": {},
   "outputs": [],
   "source": [
    "dd = np.array([1,2,3])"
   ]
  },
  {
   "cell_type": "code",
   "execution_count": 48,
   "metadata": {},
   "outputs": [
    {
     "data": {
      "text/plain": [
       "3"
      ]
     },
     "execution_count": 48,
     "metadata": {},
     "output_type": "execute_result"
    }
   ],
   "source": [
    "len(dd)"
   ]
  },
  {
   "cell_type": "code",
   "execution_count": null,
   "metadata": {},
   "outputs": [],
   "source": []
  }
 ],
 "metadata": {
  "kernelspec": {
   "display_name": "Python 3",
   "language": "python",
   "name": "python3"
  },
  "language_info": {
   "codemirror_mode": {
    "name": "ipython",
    "version": 3
   },
   "file_extension": ".py",
   "mimetype": "text/x-python",
   "name": "python",
   "nbconvert_exporter": "python",
   "pygments_lexer": "ipython3",
   "version": "3.6.9"
  }
 },
 "nbformat": 4,
 "nbformat_minor": 4
}
