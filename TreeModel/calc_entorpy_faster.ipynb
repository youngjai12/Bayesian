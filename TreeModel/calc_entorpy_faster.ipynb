{
 "cells": [
  {
   "cell_type": "code",
   "execution_count": 2,
   "metadata": {},
   "outputs": [],
   "source": [
    "from sklearn.datasets import load_iris\n",
    "import pandas as pd\n",
    "import numpy as np "
   ]
  },
  {
   "cell_type": "code",
   "execution_count": 121,
   "metadata": {},
   "outputs": [],
   "source": [
    "data = load_iris()\n",
    "X, y, column_names = data['data'], data['target'], data['feature_names']\n",
    "X = pd.DataFrame(X, columns = column_names)\n",
    "X['target'] = y"
   ]
  },
  {
   "cell_type": "code",
   "execution_count": 122,
   "metadata": {},
   "outputs": [
    {
     "data": {
      "text/plain": [
       "0      0\n",
       "1      0\n",
       "2      0\n",
       "3      0\n",
       "4      0\n",
       "      ..\n",
       "145    2\n",
       "146    2\n",
       "147    2\n",
       "148    2\n",
       "149    2\n",
       "Name: target, Length: 150, dtype: int64"
      ]
     },
     "execution_count": 122,
     "metadata": {},
     "output_type": "execute_result"
    }
   ],
   "source": [
    "X['target']"
   ]
  },
  {
   "cell_type": "code",
   "execution_count": 123,
   "metadata": {},
   "outputs": [
    {
     "data": {
      "text/plain": [
       "array([0, 0, 0, 0, 0, 0, 0, 0, 0, 0, 0, 0, 0, 0, 0, 0, 0, 0, 0, 0, 0, 0,\n",
       "       0, 0, 0, 0, 0, 0, 0, 0, 0, 0, 0, 0, 0, 0, 0, 0, 0, 0, 0, 0, 0, 0,\n",
       "       0, 0, 0, 0, 0, 0, 1, 1, 1, 1, 1, 1, 1, 1, 1, 1, 1, 1, 1, 1, 1, 1,\n",
       "       1, 1, 1, 1, 1, 1, 1, 1, 1, 1, 1, 1, 1, 1, 1, 1, 1, 1, 1, 1, 1, 1,\n",
       "       1, 1, 1, 1, 1, 1, 1, 1, 1, 1, 1, 1, 2, 2, 2, 2, 2, 2, 2, 2, 2, 2,\n",
       "       2, 2, 2, 2, 2, 2, 2, 2, 2, 2, 2, 2, 2, 2, 2, 2, 2, 2, 2, 2, 2, 2,\n",
       "       2, 2, 2, 2, 2, 2, 2, 2, 2, 2, 2, 2, 2, 2, 2, 2, 2, 2])"
      ]
     },
     "execution_count": 123,
     "metadata": {},
     "output_type": "execute_result"
    }
   ],
   "source": [
    "X['target'].values"
   ]
  },
  {
   "cell_type": "code",
   "execution_count": 125,
   "metadata": {},
   "outputs": [
    {
     "data": {
      "text/plain": [
       "array([0., 0., 0., 0., 0., 0., 0., 0., 0., 0., 0., 0., 0., 0., 0., 0., 0.,\n",
       "       0., 0., 0., 0., 0., 0., 0., 0., 0., 0., 0., 0., 0., 0., 0., 0., 0.,\n",
       "       0., 0., 0., 0., 0., 0., 0., 0., 0., 0., 0., 0., 0., 0., 0., 0., 1.,\n",
       "       1., 1., 1., 1., 1., 1., 1., 1., 1., 1., 1., 1., 1., 1., 1., 1., 1.,\n",
       "       1., 1., 1., 1., 1., 1., 1., 1., 1., 1., 1., 1., 1., 1., 1., 1., 1.,\n",
       "       1., 1., 1., 1., 1., 1., 1., 1., 1., 1., 1., 1., 1., 1., 1., 2., 2.,\n",
       "       2., 2., 2., 2., 2., 2., 2., 2., 2., 2., 2., 2., 2., 2., 2., 2., 2.,\n",
       "       2., 2., 2., 2., 2., 2., 2., 2., 2., 2., 2., 2., 2., 2., 2., 2., 2.,\n",
       "       2., 2., 2., 2., 2., 2., 2., 2., 2., 2., 2., 2., 2., 2.])"
      ]
     },
     "execution_count": 125,
     "metadata": {},
     "output_type": "execute_result"
    }
   ],
   "source": [
    "np.asarray(X)[:, 4]"
   ]
  },
  {
   "cell_type": "code",
   "execution_count": 128,
   "metadata": {},
   "outputs": [],
   "source": [
    "\n",
    "def bootstrap(df, nboot):\n",
    "    idx = np.random.randint(df.shape[0], size = (nboot, df.shape[0]))\n",
    "    idx_flat = np.ravel(idx)\n",
    "    \n",
    "    return df.iloc[idx_flat, :]\n",
    "\n",
    "bootstappedDF = bootstrap(X, 100)\n",
    "bootstapped_smallDF = bootstrap(X, 1)\n"
   ]
  },
  {
   "cell_type": "code",
   "execution_count": 114,
   "metadata": {},
   "outputs": [
    {
     "data": {
      "text/html": [
       "<div>\n",
       "<style scoped>\n",
       "    .dataframe tbody tr th:only-of-type {\n",
       "        vertical-align: middle;\n",
       "    }\n",
       "\n",
       "    .dataframe tbody tr th {\n",
       "        vertical-align: top;\n",
       "    }\n",
       "\n",
       "    .dataframe thead th {\n",
       "        text-align: right;\n",
       "    }\n",
       "</style>\n",
       "<table border=\"1\" class=\"dataframe\">\n",
       "  <thead>\n",
       "    <tr style=\"text-align: right;\">\n",
       "      <th></th>\n",
       "      <th>sepal length (cm)</th>\n",
       "      <th>sepal width (cm)</th>\n",
       "      <th>petal length (cm)</th>\n",
       "      <th>petal width (cm)</th>\n",
       "      <th>target</th>\n",
       "    </tr>\n",
       "  </thead>\n",
       "  <tbody>\n",
       "    <tr>\n",
       "      <th>93</th>\n",
       "      <td>5.0</td>\n",
       "      <td>2.3</td>\n",
       "      <td>3.3</td>\n",
       "      <td>1.0</td>\n",
       "      <td>1</td>\n",
       "    </tr>\n",
       "    <tr>\n",
       "      <th>138</th>\n",
       "      <td>6.0</td>\n",
       "      <td>3.0</td>\n",
       "      <td>4.8</td>\n",
       "      <td>1.8</td>\n",
       "      <td>2</td>\n",
       "    </tr>\n",
       "    <tr>\n",
       "      <th>94</th>\n",
       "      <td>5.6</td>\n",
       "      <td>2.7</td>\n",
       "      <td>4.2</td>\n",
       "      <td>1.3</td>\n",
       "      <td>1</td>\n",
       "    </tr>\n",
       "    <tr>\n",
       "      <th>88</th>\n",
       "      <td>5.6</td>\n",
       "      <td>3.0</td>\n",
       "      <td>4.1</td>\n",
       "      <td>1.3</td>\n",
       "      <td>1</td>\n",
       "    </tr>\n",
       "    <tr>\n",
       "      <th>112</th>\n",
       "      <td>6.8</td>\n",
       "      <td>3.0</td>\n",
       "      <td>5.5</td>\n",
       "      <td>2.1</td>\n",
       "      <td>2</td>\n",
       "    </tr>\n",
       "    <tr>\n",
       "      <th>...</th>\n",
       "      <td>...</td>\n",
       "      <td>...</td>\n",
       "      <td>...</td>\n",
       "      <td>...</td>\n",
       "      <td>...</td>\n",
       "    </tr>\n",
       "    <tr>\n",
       "      <th>4</th>\n",
       "      <td>5.0</td>\n",
       "      <td>3.6</td>\n",
       "      <td>1.4</td>\n",
       "      <td>0.2</td>\n",
       "      <td>0</td>\n",
       "    </tr>\n",
       "    <tr>\n",
       "      <th>117</th>\n",
       "      <td>7.7</td>\n",
       "      <td>3.8</td>\n",
       "      <td>6.7</td>\n",
       "      <td>2.2</td>\n",
       "      <td>2</td>\n",
       "    </tr>\n",
       "    <tr>\n",
       "      <th>21</th>\n",
       "      <td>5.1</td>\n",
       "      <td>3.7</td>\n",
       "      <td>1.5</td>\n",
       "      <td>0.4</td>\n",
       "      <td>0</td>\n",
       "    </tr>\n",
       "    <tr>\n",
       "      <th>107</th>\n",
       "      <td>7.3</td>\n",
       "      <td>2.9</td>\n",
       "      <td>6.3</td>\n",
       "      <td>1.8</td>\n",
       "      <td>2</td>\n",
       "    </tr>\n",
       "    <tr>\n",
       "      <th>86</th>\n",
       "      <td>6.7</td>\n",
       "      <td>3.1</td>\n",
       "      <td>4.7</td>\n",
       "      <td>1.5</td>\n",
       "      <td>1</td>\n",
       "    </tr>\n",
       "  </tbody>\n",
       "</table>\n",
       "<p>150 rows × 5 columns</p>\n",
       "</div>"
      ],
      "text/plain": [
       "     sepal length (cm)  sepal width (cm)  petal length (cm)  petal width (cm)  \\\n",
       "93                 5.0               2.3                3.3               1.0   \n",
       "138                6.0               3.0                4.8               1.8   \n",
       "94                 5.6               2.7                4.2               1.3   \n",
       "88                 5.6               3.0                4.1               1.3   \n",
       "112                6.8               3.0                5.5               2.1   \n",
       "..                 ...               ...                ...               ...   \n",
       "4                  5.0               3.6                1.4               0.2   \n",
       "117                7.7               3.8                6.7               2.2   \n",
       "21                 5.1               3.7                1.5               0.4   \n",
       "107                7.3               2.9                6.3               1.8   \n",
       "86                 6.7               3.1                4.7               1.5   \n",
       "\n",
       "     target  \n",
       "93        1  \n",
       "138       2  \n",
       "94        1  \n",
       "88        1  \n",
       "112       2  \n",
       "..      ...  \n",
       "4         0  \n",
       "117       2  \n",
       "21        0  \n",
       "107       2  \n",
       "86        1  \n",
       "\n",
       "[150 rows x 5 columns]"
      ]
     },
     "execution_count": 114,
     "metadata": {},
     "output_type": "execute_result"
    }
   ],
   "source": [
    "bootstapped_smallDF"
   ]
  },
  {
   "cell_type": "code",
   "execution_count": 131,
   "metadata": {},
   "outputs": [],
   "source": [
    "X, y = bootstappedDF.drop(columns = 'target'), bootstappedDF['target']\n",
    "\n",
    "from sklearn.model_selection import train_test_split\n",
    "X_train, X_val, y_train, y_val = train_test_split(X,y, random_state = 44)"
   ]
  },
  {
   "cell_type": "code",
   "execution_count": 132,
   "metadata": {},
   "outputs": [
    {
     "data": {
      "text/plain": [
       "84     1\n",
       "85     1\n",
       "67     1\n",
       "121    2\n",
       "37     0\n",
       "      ..\n",
       "135    2\n",
       "97     1\n",
       "100    2\n",
       "147    2\n",
       "57     1\n",
       "Name: target, Length: 11250, dtype: int64"
      ]
     },
     "execution_count": 132,
     "metadata": {},
     "output_type": "execute_result"
    }
   ],
   "source": [
    "y_train"
   ]
  },
  {
   "cell_type": "code",
   "execution_count": 41,
   "metadata": {},
   "outputs": [
    {
     "data": {
      "text/plain": [
       "array([0.04, 0.64])"
      ]
     },
     "execution_count": 41,
     "metadata": {},
     "output_type": "execute_result"
    }
   ],
   "source": [
    "prac = [0.2, 0.8]\n",
    "np.asarray(prac)**2"
   ]
  },
  {
   "cell_type": "markdown",
   "metadata": {},
   "source": [
    "### 어차피 입력값이 numpy 형태라서 속도 차이는 없다. \n",
    "만약에 입력값의 형태가 dp dataframe 형태라면 차이가 존재함. "
   ]
  },
  {
   "cell_type": "code",
   "execution_count": 78,
   "metadata": {},
   "outputs": [],
   "source": [
    "def getImpurity_faster(target, class_list):\n",
    "    # 기본적으로 np.where 을 하면 tuple 형태이다. ( array([idx1, idx2 ,,, ]), ) \n",
    "    \n",
    "    probas = []\n",
    "    for one_class in class_list:\n",
    "        prob = np.where(target == one_class)[0].size / target.shape[0]\n",
    "        probas.append(prob)\n",
    "    \n",
    "    # gini 계수를 구한다. \n",
    "    return 1-np.sum(np.asarray(probas)**2)\n",
    "    \n",
    "\n",
    "def getImpurity(y, class_list):\n",
    "    probas = []\n",
    "    for one_class in class_list:\n",
    "        proba = y[y==one_class].shape[0] / y.shape[0]\n",
    "        probas.append(proba)\n",
    "        \n",
    "    return 1-np.sum(np.asarray(probas)**2)   "
   ]
  },
  {
   "cell_type": "code",
   "execution_count": 79,
   "metadata": {},
   "outputs": [
    {
     "name": "stdout",
     "output_type": "stream",
     "text": [
      "CPU times: user 18.4 ms, sys: 0 ns, total: 18.4 ms\n",
      "Wall time: 17.7 ms\n"
     ]
    },
    {
     "data": {
      "text/plain": [
       "0.6666666634746666"
      ]
     },
     "execution_count": 79,
     "metadata": {},
     "output_type": "execute_result"
    }
   ],
   "source": [
    "%%time\n",
    "\n",
    "only_y = bootstappedDF[\"target\"]\n",
    "target_name = \"target\"\n",
    "class_list = [0,1,2]\n",
    "\n",
    "\n",
    "getImpurity_faster(np.asarray(only_y), class_list)"
   ]
  },
  {
   "cell_type": "code",
   "execution_count": 80,
   "metadata": {},
   "outputs": [
    {
     "name": "stdout",
     "output_type": "stream",
     "text": [
      "CPU times: user 48.9 ms, sys: 0 ns, total: 48.9 ms\n",
      "Wall time: 48.3 ms\n"
     ]
    },
    {
     "data": {
      "text/plain": [
       "0.6666666634746666"
      ]
     },
     "execution_count": 80,
     "metadata": {},
     "output_type": "execute_result"
    }
   ],
   "source": [
    "%%time\n",
    "getImpurity(only_y, class_list)"
   ]
  },
  {
   "cell_type": "code",
   "execution_count": 135,
   "metadata": {},
   "outputs": [],
   "source": [
    " \n",
    "        \n",
    "    \n",
    "def calcBestSplit(X, y):\n",
    "        '''\n",
    "        Calculates the best possible split for the concrete node of the tree\n",
    "        '''\n",
    "        class_list = [0,1,2]\n",
    "        bestSplitCol = None\n",
    "        bestThresh = None\n",
    "        bestInfoGain = -999\n",
    "        \n",
    "        # 나누기 전 현재의 데이터 분포에서 impurity 를 계산한다. \n",
    "        impurityBefore = getImpurity(y, class_list)\n",
    "        \n",
    "        # X는 2차원의 table 데이터 이므로, (행 수, 열 수) 의 shape을 갖는다. \n",
    "        # 따라서, 모든 variable 들에 대해서 info gain을 계산해야 하므로 loop 돌린다. \n",
    "        \n",
    "        for col in range(X.shape[1]):\n",
    "            x_col = X[:, col]  # 행은 전부다, 열은 col으로 지정한 열만. \n",
    "            \n",
    "            # 각각의 모든 value 들을 기준로 나눈다. \n",
    "            for x_i in x_col:\n",
    "                threshold = x_i\n",
    "                y_right = y[x_col > threshold]\n",
    "                y_left = y[x_col <= threshold]\n",
    "                \n",
    "                if y_right.shape[0] == 0 or y_left.shape[0] == 0:\n",
    "                    continue\n",
    "                    \n",
    "                # calculate impurity for the right and left nodes\n",
    "                impurityRight = getImpurity(y_right, class_list)\n",
    "                impurityLeft = getImpurity(y_left, class_list)\n",
    "                \n",
    "                # calculate information gain\n",
    "                infoGain = impurityBefore\n",
    "                infoGain -= (impurityLeft * y_left.shape[0] / y.shape[0]) + (impurityRight * y_right.shape[0] / y.shape[0])\n",
    "                \n",
    "                # is this infoGain better then all other?\n",
    "                if infoGain > bestInfoGain:\n",
    "                    bestSplitCol = col\n",
    "                    bestThresh = threshold\n",
    "                    bestInfoGain = infoGain\n",
    "                    \n",
    "        \n",
    "        # if we still didn't find the split\n",
    "        if bestInfoGain == -999:\n",
    "            return None, None, None, None, None, None\n",
    "        \n",
    "        # making the best split\n",
    "        \n",
    "        x_col = X[:, bestSplitCol]\n",
    "        x_left, x_right = X[x_col <= bestThresh, :], X[x_col > bestThresh, :]\n",
    "        y_left, y_right = y[x_col <= bestThresh], y[x_col > bestThresh]\n",
    "        \n",
    "        return bestSplitCol, bestThresh, x_left, y_left, x_right, y_right"
   ]
  },
  {
   "cell_type": "code",
   "execution_count": 137,
   "metadata": {},
   "outputs": [
    {
     "name": "stdout",
     "output_type": "stream",
     "text": [
      "CPU times: user 1min 42s, sys: 0 ns, total: 1min 42s\n",
      "Wall time: 1min 42s\n"
     ]
    }
   ],
   "source": [
    "%%time \n",
    "\n",
    "x = np.asarray(X_train)\n",
    "splitCol, thresh, x_left, y_left, x_right, y_right = calcBestSplit(x, y_train)\n"
   ]
  },
  {
   "cell_type": "code",
   "execution_count": 136,
   "metadata": {},
   "outputs": [],
   "source": [
    "def calcBestSplit_faster(X, y):\n",
    "        '''\n",
    "        X : np.asarray 를 통해서 이미 numpy array 형태로 변환된 것이다. \n",
    "        Calculates the best possible split for the concrete node of the tree\n",
    "        '''\n",
    "        class_list = [0,1,2]\n",
    "        bestSplitCol = None\n",
    "        bestThresh = None\n",
    "        bestInfoGain = -999\n",
    "        \n",
    "        # 나누기 전 현재의 데이터 분포에서 impurity 를 계산한다. \n",
    "        impurityBefore = getImpurity_faster(y, class_list)\n",
    "        \n",
    "        # X는 2차원의 table 데이터 이므로, (행 수, 열 수) 의 shape을 갖는다. \n",
    "        # 따라서, 모든 variable 들에 대해서 info gain을 계산해야 하므로 loop 돌린다. \n",
    "        \n",
    "        for col in range(X.shape[1]):\n",
    "            \n",
    "            # X 가 이미 np.array 아래와같이 indexing이 가능. .iloc이 아님. \n",
    "            x_col = X[:, col]  # 행은 전부다, 열은 col으로 지정한 열만. \n",
    "            \n",
    "            # 각각의 모든 value 들을 기준로 나눈다. \n",
    "            for x_i in x_col:\n",
    "                threshold = x_i\n",
    "                y_right = np.where(y  > threshold)[0]\n",
    "                y_left = np.where(y <=threshold)[0]\n",
    "                \n",
    "                if y_right.shape[0] == 0 or y_left.shape[0] == 0:\n",
    "                    continue\n",
    "                    \n",
    "                # calculate impurity for the right and left nodes\n",
    "                impurityRight = getImpurity_faster(y_right, class_list)\n",
    "                impurityLeft = getImpurity_faster(y_left, class_list)\n",
    "                \n",
    "                # calculate information gain\n",
    "                infoGain = impurityBefore\n",
    "                infoGain -= (impurityLeft * y_left.shape[0] / y.shape[0]) + (impurityRight * y_right.shape[0] / y.shape[0])\n",
    "                \n",
    "                # is this infoGain better then all other?\n",
    "                if infoGain > bestInfoGain:\n",
    "                    bestSplitCol = col\n",
    "                    bestThresh = threshold\n",
    "                    bestInfoGain = infoGain\n",
    "                    \n",
    "        \n",
    "        # if we still didn't find the split\n",
    "        if bestInfoGain == -999:\n",
    "            return None, None, None, None, None, None\n",
    "        \n",
    "        # making the best split\n",
    "        \n",
    "        x_col = X[:, bestSplitCol]\n",
    "        x_left, x_right = X[x_col <= bestThresh, :], X[x_col > bestThresh, :]\n",
    "        y_left, y_right = y[x_col <= bestThresh], y[x_col > bestThresh]\n",
    "        \n",
    "        return bestSplitCol, bestThresh, x_left, y_left, x_right, y_right"
   ]
  },
  {
   "cell_type": "code",
   "execution_count": 138,
   "metadata": {},
   "outputs": [
    {
     "name": "stdout",
     "output_type": "stream",
     "text": [
      "CPU times: user 9.59 s, sys: 0 ns, total: 9.59 s\n",
      "Wall time: 9.59 s\n"
     ]
    }
   ],
   "source": [
    "%%time \n",
    "\n",
    "x = np.asarray(X_train)\n",
    "splitCol, thresh, x_left, y_left, x_right, y_right = calcBestSplit_faster(x, y_train)\n"
   ]
  },
  {
   "cell_type": "code",
   "execution_count": null,
   "metadata": {},
   "outputs": [],
   "source": []
  }
 ],
 "metadata": {
  "kernelspec": {
   "display_name": "Python 3",
   "language": "python",
   "name": "python3"
  },
  "language_info": {
   "codemirror_mode": {
    "name": "ipython",
    "version": 3
   },
   "file_extension": ".py",
   "mimetype": "text/x-python",
   "name": "python",
   "nbconvert_exporter": "python",
   "pygments_lexer": "ipython3",
   "version": "3.6.9"
  }
 },
 "nbformat": 4,
 "nbformat_minor": 4
}
